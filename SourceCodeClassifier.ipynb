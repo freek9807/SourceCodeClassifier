{
 "cells": [
  {
   "cell_type": "markdown",
   "metadata": {
    "id": "-ngQJ_O8OT5l"
   },
   "source": [
    "# Introduction"
   ]
  },
  {
   "cell_type": "markdown",
   "metadata": {
    "id": "Gp-VibwVOpu9"
   },
   "source": [
    "Importo il necessario\n"
   ]
  },
  {
   "cell_type": "code",
   "execution_count": 1,
   "metadata": {
    "id": "l94AynHuURyS",
    "outputId": "db6aaa35-865d-49af-cd69-f246ad8ce073",
    "scrolled": true
   },
   "outputs": [],
   "source": [
    "import os\n",
    "os.environ['TF_CPP_MIN_LOG_LEVEL'] = '2' \n",
    "import operator\n",
    "import random\n",
    "import re\n",
    "import csv\n",
    "import numpy as np\n",
    "import pandas as pd\n",
    "import seaborn as sn\n",
    "import os.path\n",
    "import _pickle as cPickle\n",
    "%matplotlib inline\n",
    "import matplotlib.pyplot as plt\n",
    "import sklearn.feature_extraction as fe\n",
    "import sklearn.model_selection as ms\n",
    "from sklearn.ensemble import RandomForestClassifier\n",
    "from sklearn.preprocessing import FunctionTransformer, LabelBinarizer, LabelEncoder\n",
    "from sklearn.linear_model import LogisticRegression\n",
    "from sklearn.neighbors import KNeighborsClassifier\n",
    "from sklearn.tree import DecisionTreeClassifier\n",
    "from keras.models import Sequential\n",
    "from keras.layers import Dense\n",
    "from keras.layers import Dropout\n",
    "from tensorflow.python.keras.wrappers.scikit_learn import KerasClassifier\n",
    "from sklearn.pipeline import Pipeline\n",
    "from sklearn.model_selection import GridSearchCV\n",
    "from sklearn.svm import SVC\n",
    "from sklearn.metrics import confusion_matrix\n",
    "from sklearn.decomposition import PCA\n",
    "plt.style.use('seaborn')"
   ]
  },
  {
   "cell_type": "markdown",
   "metadata": {
    "id": "3A-ZYXbCp0J3"
   },
   "source": [
    "# Document retrieval"
   ]
  },
  {
   "cell_type": "markdown",
   "metadata": {
    "id": "LsZQc4ngPKMg"
   },
   "source": [
    "Vado a recuperare i file che mi servono per la fase di training/testing. Il ciclo `for` serve per cerca nella repo clonata tutti i file la cui estensione appartiene alla lista `accepted`. Le estensioni presenti nell'array `accepted` sono le classi del classificatore. Quando un file che soddisfa il vincolo dell'estensione viene trovato, si controlla tramite il dict `file_num` che per quella estensione non sia già stato raggiunto il `max_num_of_files`. Infine, se tutti i controlli vengono superati, il file viene aggiunto all'array `file_list` e la sua estensione a `file_ext`. In `file_ext[i]` è presente l'estensione del file `file_list[i]`. La fine della cella serve per disegnare il Dataframe riepilogativo e un grafico a torta (attualmente inutile perchè viene usato un numero fisso di file `max_num_of_files`).\n",
    "\n"
   ]
  },
  {
   "cell_type": "code",
   "execution_count": 2,
   "metadata": {
    "colab": {
     "base_uri": "https://localhost:8080/",
     "height": 862
    },
    "id": "m2VVIR4iqGiK",
    "outputId": "f54676fb-9721-4071-8d9b-c9d78c9d7bf2",
    "scrolled": true
   },
   "outputs": [
    {
     "name": "stdout",
     "output_type": "stream",
     "text": [
      "Num    320\n",
      "dtype: int64\n"
     ]
    },
    {
     "data": {
      "text/html": [
       "<div>\n",
       "<style scoped>\n",
       "    .dataframe tbody tr th:only-of-type {\n",
       "        vertical-align: middle;\n",
       "    }\n",
       "\n",
       "    .dataframe tbody tr th {\n",
       "        vertical-align: top;\n",
       "    }\n",
       "\n",
       "    .dataframe thead th {\n",
       "        text-align: right;\n",
       "    }\n",
       "</style>\n",
       "<table border=\"1\" class=\"dataframe\">\n",
       "  <thead>\n",
       "    <tr style=\"text-align: right;\">\n",
       "      <th></th>\n",
       "      <th>Num</th>\n",
       "    </tr>\n",
       "  </thead>\n",
       "  <tbody>\n",
       "    <tr>\n",
       "      <th>C</th>\n",
       "      <td>10</td>\n",
       "    </tr>\n",
       "    <tr>\n",
       "      <th>Common Lisp</th>\n",
       "      <td>10</td>\n",
       "    </tr>\n",
       "    <tr>\n",
       "      <th>Factor</th>\n",
       "      <td>10</td>\n",
       "    </tr>\n",
       "    <tr>\n",
       "      <th>Tcl</th>\n",
       "      <td>10</td>\n",
       "    </tr>\n",
       "    <tr>\n",
       "      <th>Scala</th>\n",
       "      <td>10</td>\n",
       "    </tr>\n",
       "    <tr>\n",
       "      <th>REXX</th>\n",
       "      <td>10</td>\n",
       "    </tr>\n",
       "    <tr>\n",
       "      <th>Haskell</th>\n",
       "      <td>10</td>\n",
       "    </tr>\n",
       "    <tr>\n",
       "      <th>Go</th>\n",
       "      <td>10</td>\n",
       "    </tr>\n",
       "    <tr>\n",
       "      <th>Dart</th>\n",
       "      <td>10</td>\n",
       "    </tr>\n",
       "    <tr>\n",
       "      <th>Raku</th>\n",
       "      <td>10</td>\n",
       "    </tr>\n",
       "    <tr>\n",
       "      <th>TypeScript</th>\n",
       "      <td>10</td>\n",
       "    </tr>\n",
       "    <tr>\n",
       "      <th>D</th>\n",
       "      <td>10</td>\n",
       "    </tr>\n",
       "    <tr>\n",
       "      <th>Ruby</th>\n",
       "      <td>10</td>\n",
       "    </tr>\n",
       "    <tr>\n",
       "      <th>Prolog</th>\n",
       "      <td>10</td>\n",
       "    </tr>\n",
       "    <tr>\n",
       "      <th>CMake</th>\n",
       "      <td>10</td>\n",
       "    </tr>\n",
       "    <tr>\n",
       "      <th>Shell</th>\n",
       "      <td>10</td>\n",
       "    </tr>\n",
       "    <tr>\n",
       "      <th>OCaml</th>\n",
       "      <td>10</td>\n",
       "    </tr>\n",
       "    <tr>\n",
       "      <th>Makefile</th>\n",
       "      <td>10</td>\n",
       "    </tr>\n",
       "    <tr>\n",
       "      <th>JSON</th>\n",
       "      <td>10</td>\n",
       "    </tr>\n",
       "    <tr>\n",
       "      <th>CSS</th>\n",
       "      <td>10</td>\n",
       "    </tr>\n",
       "    <tr>\n",
       "      <th>HTML</th>\n",
       "      <td>10</td>\n",
       "    </tr>\n",
       "    <tr>\n",
       "      <th>YAML</th>\n",
       "      <td>10</td>\n",
       "    </tr>\n",
       "    <tr>\n",
       "      <th>Python</th>\n",
       "      <td>10</td>\n",
       "    </tr>\n",
       "    <tr>\n",
       "      <th>C++</th>\n",
       "      <td>10</td>\n",
       "    </tr>\n",
       "    <tr>\n",
       "      <th>Swift</th>\n",
       "      <td>10</td>\n",
       "    </tr>\n",
       "    <tr>\n",
       "      <th>XML</th>\n",
       "      <td>10</td>\n",
       "    </tr>\n",
       "    <tr>\n",
       "      <th>PHP</th>\n",
       "      <td>10</td>\n",
       "    </tr>\n",
       "    <tr>\n",
       "      <th>JavaScript</th>\n",
       "      <td>10</td>\n",
       "    </tr>\n",
       "    <tr>\n",
       "      <th>Rust</th>\n",
       "      <td>10</td>\n",
       "    </tr>\n",
       "    <tr>\n",
       "      <th>LLVM</th>\n",
       "      <td>10</td>\n",
       "    </tr>\n",
       "    <tr>\n",
       "      <th>Java</th>\n",
       "      <td>10</td>\n",
       "    </tr>\n",
       "    <tr>\n",
       "      <th>Ada</th>\n",
       "      <td>10</td>\n",
       "    </tr>\n",
       "  </tbody>\n",
       "</table>\n",
       "</div>"
      ],
      "text/plain": [
       "             Num\n",
       "C             10\n",
       "Common Lisp   10\n",
       "Factor        10\n",
       "Tcl           10\n",
       "Scala         10\n",
       "REXX          10\n",
       "Haskell       10\n",
       "Go            10\n",
       "Dart          10\n",
       "Raku          10\n",
       "TypeScript    10\n",
       "D             10\n",
       "Ruby          10\n",
       "Prolog        10\n",
       "CMake         10\n",
       "Shell         10\n",
       "OCaml         10\n",
       "Makefile      10\n",
       "JSON          10\n",
       "CSS           10\n",
       "HTML          10\n",
       "YAML          10\n",
       "Python        10\n",
       "C++           10\n",
       "Swift         10\n",
       "XML           10\n",
       "PHP           10\n",
       "JavaScript    10\n",
       "Rust          10\n",
       "LLVM          10\n",
       "Java          10\n",
       "Ada           10"
      ]
     },
     "execution_count": 2,
     "metadata": {},
     "output_type": "execute_result"
    },
    {
     "data": {
      "image/png": "[encoded data removed]",
      "text/plain": [
       "<Figure size 1000x500 with 1 Axes>"
      ]
     },
     "metadata": {},
     "output_type": "display_data"
    }
   ],
   "source": [
    "plt.style.use('default')\n",
    "\n",
    "def check_open_utf8(f):\n",
    "    try:\n",
    "        open(f, 'r').read()\n",
    "        return True\n",
    "    except:\n",
    "        return False\n",
    "\n",
    "file_num = {}\n",
    "file_list = []\n",
    "file_ext = []\n",
    "accepted = [\"Java\", \"C++\", \"LLVM\", \"PHP\", \"C\", \"Rust\", \"Swift\", \"Common Lisp\", \"JavaScript\",\"YAML\", \\\n",
    "             \"Python\", \"HTML\", \"XML\", \"JSON\", \"Makefile\", \"OCaml\", \"Shell\", \"CMake\", \"Ruby\", \"TypeScript\", \\\n",
    "            \"Scala\", \"Go\", \"CSS\", \"Prolog\", \"Ada\", \"D\", \"Factor\", \"REXX\", \"S\", \"Tcl\", \"Raku\", \"Haskell\", \"Dart\"]\n",
    "max_num_of_files = 6000\n",
    "\n",
    "with open('source-code-set/listing.csv') as csv_file:\n",
    "    csv_reader = csv.reader(csv_file, delimiter=',')\n",
    "    for row in csv_reader:\n",
    "        if len(row) > 1:\n",
    "            if row[0] and row[1]:\n",
    "                if os.path.isfile(row[0]):\n",
    "                    if row[1] in accepted:\n",
    "                        add = False\n",
    "                        if check_open_utf8(row[0]):\n",
    "                            if row[1] in file_num:\n",
    "                                if file_num[row[1]] < max_num_of_files:\n",
    "                                    add = True\n",
    "                                    file_num[row[1]] += 1\n",
    "                            else:\n",
    "                                add = True\n",
    "                                file_num[row[1]] = 1\n",
    "                            if add:\n",
    "                                file_list.append(row[0])\n",
    "                                file_ext.append(row[1])\n",
    "    \n",
    "# Mostro in output le informazioni sui file acquisiti\n",
    "data = pd.DataFrame.from_dict(file_num, orient='index', columns=[\"Num\"])\n",
    "data = data.sort_values(by=[\"Num\"], ascending=False)\n",
    "# Disegno un grafico che le mostri\n",
    "pie_chart = data.plot.bar(y='Num', figsize=(10,5))\n",
    "pie_chart.get_figure()\n",
    "plt.style.use('seaborn')\n",
    "print(data.sum(axis = 0, skipna = True))\n",
    "data"
   ]
  },
  {
   "cell_type": "markdown",
   "metadata": {
    "id": "q6YLyu3SpNVl"
   },
   "source": [
    "# NLP"
   ]
  },
  {
   "cell_type": "markdown",
   "metadata": {
    "id": "-MClGUUGV2PX"
   },
   "source": [
    "La funzione `preprocess` prende in input la lista contenente il nome dei file accettati nella sezione precedente, legge il contenuto dei documenti e restituisce una serie (di *Pandas*) con il contenuto dei file opportunamente modificato. Il primo e il secondo replace rimuovono tutte le stringhe del tipo `xxxx`, `aaaaa`, `b`, `c`. I successivi replace vanno a sostituire con delle keyword le porzioni di stringa contenenti commenti. Infatti, non mi interessa sapere il contenuto di un commento, è molto più interessante sapere il tipo di commento (e.g. `//.*?\\n` diventa `ccommentstyle` nei linguaggi C-like o `#.*?\\n` diventa `pycommentstyle` in quelli funzioniali/Python-like). Se si volessero inserire anche linguaggi come Prolog bisognerebbe aggiungere un replace per i commenti in stile `%.*?\\n`.\n",
    "\n"
   ]
  },
  {
   "cell_type": "markdown",
   "metadata": {
    "id": "a3iY7qKpbMS4"
   },
   "source": [
    "\n",
    "La funzione `tokenizer`, invece, tramite `re.findall()` cerca, nella stringa in input, tutte le occorrenze che coincidono con la regex `token_pattern`. Infine, `tokenizer` cerca tra i token restituiti da `re.findall()`quelli che sono numerici e li rimpiazza con un token predefinito `XXXtokenNumberXXX`. L'output della funzione è una lista di tokens."
   ]
  },
  {
   "cell_type": "markdown",
   "metadata": {
    "id": "9yz0xuRK5Gx_"
   },
   "source": [
    "A questo punto vengono divisi training e test set, oltre a venir dichiarati `transformer` e `tfidf_vectorizer`. Il `TfidfVectorizer` ha come tokenizer la funzione `tokenizer` (di cui si è discusso prima), un numero di feature massimo di 3000 e gli ngram spaziano da 1 a 3. Tramite il Dataframe si possono visualizzare le 3000 feature, riportate tramite `PCA` anche nel grafico."
   ]
  },
  {
   "cell_type": "code",
   "execution_count": 3,
   "metadata": {
    "colab": {
     "base_uri": "https://localhost:8080/",
     "height": 791
    },
    "id": "YHASebZjpMp6",
    "outputId": "b90412aa-23fe-4d60-bc78-5d411f35a95d"
   },
   "outputs": [
    {
     "data": {
      "text/html": [
       "<div>\n",
       "<style scoped>\n",
       "    .dataframe tbody tr th:only-of-type {\n",
       "        vertical-align: middle;\n",
       "    }\n",
       "\n",
       "    .dataframe tbody tr th {\n",
       "        vertical-align: top;\n",
       "    }\n",
       "\n",
       "    .dataframe thead th {\n",
       "        text-align: right;\n",
       "    }\n",
       "</style>\n",
       "<table border=\"1\" class=\"dataframe\">\n",
       "  <thead>\n",
       "    <tr style=\"text-align: right;\">\n",
       "      <th></th>\n",
       "      <th>\\t</th>\n",
       "      <th>\\t \\t</th>\n",
       "      <th>\\t \"</th>\n",
       "      <th>\\t $</th>\n",
       "      <th>\\t =</th>\n",
       "      <th>\\t @</th>\n",
       "      <th>\\t @$</th>\n",
       "      <th>\\t XXXtokenNumberXXX</th>\n",
       "      <th>\\t [</th>\n",
       "      <th>\\t ccommentstyle</th>\n",
       "      <th>...</th>\n",
       "      <th>} static</th>\n",
       "      <th>} sub</th>\n",
       "      <th>} type</th>\n",
       "      <th>} val</th>\n",
       "      <th>} void</th>\n",
       "      <th>} {</th>\n",
       "      <th>} }</th>\n",
       "      <th>~</th>\n",
       "      <th>~ \\t</th>\n",
       "      <th>~ doublequotedstring</th>\n",
       "    </tr>\n",
       "  </thead>\n",
       "  <tbody>\n",
       "    <tr>\n",
       "      <th>0</th>\n",
       "      <td>0.000000</td>\n",
       "      <td>0.000000</td>\n",
       "      <td>0.0</td>\n",
       "      <td>0.000000</td>\n",
       "      <td>0.0</td>\n",
       "      <td>0.000000</td>\n",
       "      <td>0.000000</td>\n",
       "      <td>0.0</td>\n",
       "      <td>0.0</td>\n",
       "      <td>0.0</td>\n",
       "      <td>...</td>\n",
       "      <td>0.0</td>\n",
       "      <td>0.0</td>\n",
       "      <td>0.0</td>\n",
       "      <td>0.000000</td>\n",
       "      <td>0.00000</td>\n",
       "      <td>0.000000</td>\n",
       "      <td>0.000000</td>\n",
       "      <td>0.00000</td>\n",
       "      <td>0.0</td>\n",
       "      <td>0.0</td>\n",
       "    </tr>\n",
       "    <tr>\n",
       "      <th>1</th>\n",
       "      <td>0.000000</td>\n",
       "      <td>0.000000</td>\n",
       "      <td>0.0</td>\n",
       "      <td>0.000000</td>\n",
       "      <td>0.0</td>\n",
       "      <td>0.000000</td>\n",
       "      <td>0.000000</td>\n",
       "      <td>0.0</td>\n",
       "      <td>0.0</td>\n",
       "      <td>0.0</td>\n",
       "      <td>...</td>\n",
       "      <td>0.0</td>\n",
       "      <td>0.0</td>\n",
       "      <td>0.0</td>\n",
       "      <td>0.030017</td>\n",
       "      <td>0.00000</td>\n",
       "      <td>0.009738</td>\n",
       "      <td>0.060143</td>\n",
       "      <td>0.00000</td>\n",
       "      <td>0.0</td>\n",
       "      <td>0.0</td>\n",
       "    </tr>\n",
       "    <tr>\n",
       "      <th>2</th>\n",
       "      <td>0.000000</td>\n",
       "      <td>0.000000</td>\n",
       "      <td>0.0</td>\n",
       "      <td>0.000000</td>\n",
       "      <td>0.0</td>\n",
       "      <td>0.000000</td>\n",
       "      <td>0.000000</td>\n",
       "      <td>0.0</td>\n",
       "      <td>0.0</td>\n",
       "      <td>0.0</td>\n",
       "      <td>...</td>\n",
       "      <td>0.0</td>\n",
       "      <td>0.0</td>\n",
       "      <td>0.0</td>\n",
       "      <td>0.000000</td>\n",
       "      <td>0.00701</td>\n",
       "      <td>0.000000</td>\n",
       "      <td>0.055104</td>\n",
       "      <td>0.00654</td>\n",
       "      <td>0.0</td>\n",
       "      <td>0.0</td>\n",
       "    </tr>\n",
       "    <tr>\n",
       "      <th>3</th>\n",
       "      <td>0.000000</td>\n",
       "      <td>0.000000</td>\n",
       "      <td>0.0</td>\n",
       "      <td>0.000000</td>\n",
       "      <td>0.0</td>\n",
       "      <td>0.000000</td>\n",
       "      <td>0.000000</td>\n",
       "      <td>0.0</td>\n",
       "      <td>0.0</td>\n",
       "      <td>0.0</td>\n",
       "      <td>...</td>\n",
       "      <td>0.0</td>\n",
       "      <td>0.0</td>\n",
       "      <td>0.0</td>\n",
       "      <td>0.000000</td>\n",
       "      <td>0.00000</td>\n",
       "      <td>0.000000</td>\n",
       "      <td>0.000000</td>\n",
       "      <td>0.00000</td>\n",
       "      <td>0.0</td>\n",
       "      <td>0.0</td>\n",
       "    </tr>\n",
       "    <tr>\n",
       "      <th>4</th>\n",
       "      <td>0.000000</td>\n",
       "      <td>0.000000</td>\n",
       "      <td>0.0</td>\n",
       "      <td>0.000000</td>\n",
       "      <td>0.0</td>\n",
       "      <td>0.000000</td>\n",
       "      <td>0.000000</td>\n",
       "      <td>0.0</td>\n",
       "      <td>0.0</td>\n",
       "      <td>0.0</td>\n",
       "      <td>...</td>\n",
       "      <td>0.0</td>\n",
       "      <td>0.0</td>\n",
       "      <td>0.0</td>\n",
       "      <td>0.000000</td>\n",
       "      <td>0.00000</td>\n",
       "      <td>0.000000</td>\n",
       "      <td>0.000000</td>\n",
       "      <td>0.00000</td>\n",
       "      <td>0.0</td>\n",
       "      <td>0.0</td>\n",
       "    </tr>\n",
       "    <tr>\n",
       "      <th>...</th>\n",
       "      <td>...</td>\n",
       "      <td>...</td>\n",
       "      <td>...</td>\n",
       "      <td>...</td>\n",
       "      <td>...</td>\n",
       "      <td>...</td>\n",
       "      <td>...</td>\n",
       "      <td>...</td>\n",
       "      <td>...</td>\n",
       "      <td>...</td>\n",
       "      <td>...</td>\n",
       "      <td>...</td>\n",
       "      <td>...</td>\n",
       "      <td>...</td>\n",
       "      <td>...</td>\n",
       "      <td>...</td>\n",
       "      <td>...</td>\n",
       "      <td>...</td>\n",
       "      <td>...</td>\n",
       "      <td>...</td>\n",
       "      <td>...</td>\n",
       "    </tr>\n",
       "    <tr>\n",
       "      <th>235</th>\n",
       "      <td>0.000000</td>\n",
       "      <td>0.000000</td>\n",
       "      <td>0.0</td>\n",
       "      <td>0.000000</td>\n",
       "      <td>0.0</td>\n",
       "      <td>0.000000</td>\n",
       "      <td>0.000000</td>\n",
       "      <td>0.0</td>\n",
       "      <td>0.0</td>\n",
       "      <td>0.0</td>\n",
       "      <td>...</td>\n",
       "      <td>0.0</td>\n",
       "      <td>0.0</td>\n",
       "      <td>0.0</td>\n",
       "      <td>0.000000</td>\n",
       "      <td>0.00000</td>\n",
       "      <td>0.000000</td>\n",
       "      <td>0.000000</td>\n",
       "      <td>0.00000</td>\n",
       "      <td>0.0</td>\n",
       "      <td>0.0</td>\n",
       "    </tr>\n",
       "    <tr>\n",
       "      <th>236</th>\n",
       "      <td>0.000000</td>\n",
       "      <td>0.000000</td>\n",
       "      <td>0.0</td>\n",
       "      <td>0.000000</td>\n",
       "      <td>0.0</td>\n",
       "      <td>0.000000</td>\n",
       "      <td>0.000000</td>\n",
       "      <td>0.0</td>\n",
       "      <td>0.0</td>\n",
       "      <td>0.0</td>\n",
       "      <td>...</td>\n",
       "      <td>0.0</td>\n",
       "      <td>0.0</td>\n",
       "      <td>0.0</td>\n",
       "      <td>0.000000</td>\n",
       "      <td>0.00000</td>\n",
       "      <td>0.000000</td>\n",
       "      <td>0.000000</td>\n",
       "      <td>0.00000</td>\n",
       "      <td>0.0</td>\n",
       "      <td>0.0</td>\n",
       "    </tr>\n",
       "    <tr>\n",
       "      <th>237</th>\n",
       "      <td>0.433954</td>\n",
       "      <td>0.266079</td>\n",
       "      <td>0.0</td>\n",
       "      <td>0.029655</td>\n",
       "      <td>0.0</td>\n",
       "      <td>0.044483</td>\n",
       "      <td>0.016656</td>\n",
       "      <td>0.0</td>\n",
       "      <td>0.0</td>\n",
       "      <td>0.0</td>\n",
       "      <td>...</td>\n",
       "      <td>0.0</td>\n",
       "      <td>0.0</td>\n",
       "      <td>0.0</td>\n",
       "      <td>0.000000</td>\n",
       "      <td>0.00000</td>\n",
       "      <td>0.000000</td>\n",
       "      <td>0.000000</td>\n",
       "      <td>0.00000</td>\n",
       "      <td>0.0</td>\n",
       "      <td>0.0</td>\n",
       "    </tr>\n",
       "    <tr>\n",
       "      <th>238</th>\n",
       "      <td>0.000000</td>\n",
       "      <td>0.000000</td>\n",
       "      <td>0.0</td>\n",
       "      <td>0.000000</td>\n",
       "      <td>0.0</td>\n",
       "      <td>0.000000</td>\n",
       "      <td>0.000000</td>\n",
       "      <td>0.0</td>\n",
       "      <td>0.0</td>\n",
       "      <td>0.0</td>\n",
       "      <td>...</td>\n",
       "      <td>0.0</td>\n",
       "      <td>0.0</td>\n",
       "      <td>0.0</td>\n",
       "      <td>0.000000</td>\n",
       "      <td>0.00000</td>\n",
       "      <td>0.000000</td>\n",
       "      <td>0.015446</td>\n",
       "      <td>0.00000</td>\n",
       "      <td>0.0</td>\n",
       "      <td>0.0</td>\n",
       "    </tr>\n",
       "    <tr>\n",
       "      <th>239</th>\n",
       "      <td>0.000000</td>\n",
       "      <td>0.000000</td>\n",
       "      <td>0.0</td>\n",
       "      <td>0.000000</td>\n",
       "      <td>0.0</td>\n",
       "      <td>0.000000</td>\n",
       "      <td>0.000000</td>\n",
       "      <td>0.0</td>\n",
       "      <td>0.0</td>\n",
       "      <td>0.0</td>\n",
       "      <td>...</td>\n",
       "      <td>0.0</td>\n",
       "      <td>0.0</td>\n",
       "      <td>0.0</td>\n",
       "      <td>0.000000</td>\n",
       "      <td>0.00000</td>\n",
       "      <td>0.270166</td>\n",
       "      <td>0.037921</td>\n",
       "      <td>0.00000</td>\n",
       "      <td>0.0</td>\n",
       "      <td>0.0</td>\n",
       "    </tr>\n",
       "  </tbody>\n",
       "</table>\n",
       "<p>240 rows × 4000 columns</p>\n",
       "</div>"
      ],
      "text/plain": [
       "           \\t     \\t \\t  \\t \"      \\t $  \\t =      \\t @     \\t @$  \\\n",
       "0    0.000000  0.000000   0.0  0.000000   0.0  0.000000  0.000000   \n",
       "1    0.000000  0.000000   0.0  0.000000   0.0  0.000000  0.000000   \n",
       "2    0.000000  0.000000   0.0  0.000000   0.0  0.000000  0.000000   \n",
       "3    0.000000  0.000000   0.0  0.000000   0.0  0.000000  0.000000   \n",
       "4    0.000000  0.000000   0.0  0.000000   0.0  0.000000  0.000000   \n",
       "..        ...       ...   ...       ...   ...       ...       ...   \n",
       "235  0.000000  0.000000   0.0  0.000000   0.0  0.000000  0.000000   \n",
       "236  0.000000  0.000000   0.0  0.000000   0.0  0.000000  0.000000   \n",
       "237  0.433954  0.266079   0.0  0.029655   0.0  0.044483  0.016656   \n",
       "238  0.000000  0.000000   0.0  0.000000   0.0  0.000000  0.000000   \n",
       "239  0.000000  0.000000   0.0  0.000000   0.0  0.000000  0.000000   \n",
       "\n",
       "     \\t XXXtokenNumberXXX  \\t [  \\t ccommentstyle  ...  } static  } sub  \\\n",
       "0                     0.0   0.0               0.0  ...       0.0    0.0   \n",
       "1                     0.0   0.0               0.0  ...       0.0    0.0   \n",
       "2                     0.0   0.0               0.0  ...       0.0    0.0   \n",
       "3                     0.0   0.0               0.0  ...       0.0    0.0   \n",
       "4                     0.0   0.0               0.0  ...       0.0    0.0   \n",
       "..                    ...   ...               ...  ...       ...    ...   \n",
       "235                   0.0   0.0               0.0  ...       0.0    0.0   \n",
       "236                   0.0   0.0               0.0  ...       0.0    0.0   \n",
       "237                   0.0   0.0               0.0  ...       0.0    0.0   \n",
       "238                   0.0   0.0               0.0  ...       0.0    0.0   \n",
       "239                   0.0   0.0               0.0  ...       0.0    0.0   \n",
       "\n",
       "     } type     } val   } void       } {       } }        ~  ~ \\t  \\\n",
       "0       0.0  0.000000  0.00000  0.000000  0.000000  0.00000   0.0   \n",
       "1       0.0  0.030017  0.00000  0.009738  0.060143  0.00000   0.0   \n",
       "2       0.0  0.000000  0.00701  0.000000  0.055104  0.00654   0.0   \n",
       "3       0.0  0.000000  0.00000  0.000000  0.000000  0.00000   0.0   \n",
       "4       0.0  0.000000  0.00000  0.000000  0.000000  0.00000   0.0   \n",
       "..      ...       ...      ...       ...       ...      ...   ...   \n",
       "235     0.0  0.000000  0.00000  0.000000  0.000000  0.00000   0.0   \n",
       "236     0.0  0.000000  0.00000  0.000000  0.000000  0.00000   0.0   \n",
       "237     0.0  0.000000  0.00000  0.000000  0.000000  0.00000   0.0   \n",
       "238     0.0  0.000000  0.00000  0.000000  0.015446  0.00000   0.0   \n",
       "239     0.0  0.000000  0.00000  0.270166  0.037921  0.00000   0.0   \n",
       "\n",
       "     ~ doublequotedstring  \n",
       "0                     0.0  \n",
       "1                     0.0  \n",
       "2                     0.0  \n",
       "3                     0.0  \n",
       "4                     0.0  \n",
       "..                    ...  \n",
       "235                   0.0  \n",
       "236                   0.0  \n",
       "237                   0.0  \n",
       "238                   0.0  \n",
       "239                   0.0  \n",
       "\n",
       "[240 rows x 4000 columns]"
      ]
     },
     "execution_count": 3,
     "metadata": {},
     "output_type": "execute_result"
    },
    {
     "data": {
      "image/png": "[encoded data removed]",
      "text/plain": [
       "<Figure size 800x550 with 1 Axes>"
      ]
     },
     "metadata": {},
     "output_type": "display_data"
    }
   ],
   "source": [
    "def preprocess(x):\n",
    "    ls_file = list(map(lambda v: open(v, 'r').read(), x))\n",
    "    return pd.Series(ls_file).replace(r'\\b([A-Za-z])\\1+\\b', '', regex=True) \\\n",
    "        .replace(r'\\b[A-Za-z]\\b', '', regex=True) \\\n",
    "        .replace(r'\\/\\*(\\*(?!\\/)|[^*])*\\*\\/', ' ccommentstyle ', regex=True) \\\n",
    "        .replace(r'//.*?\\n', ' ccommentstyle ', regex=True) \\\n",
    "        .replace(r'#.*?\\n', ' pycommentstyle ', regex=True) \\\n",
    "        .replace(r'%.*?\\n', ' prologcommentstyle ', regex=True) \\\n",
    "        .replace(r'\".*?\"', ' doublequotedstring ', regex=True) \\\n",
    "        .replace(r\"'.*?'\", ' singlequotedstring ', regex=True) \\\n",
    "        .replace(r\"'.'\", ' singlecharacter ') \\\n",
    "        .replace(r'\\(\\*(\\*(?!\\))|[^*])*\\*\\)', ' mlcommentstyle ', regex=True)\\\n",
    "        .replace(r'<!--(.*?)-->', ' htmlcommentstyle ', regex=True)\\\n",
    "        .replace(r'<!--(.*?)-->', ' htmlcommentstyle ', regex=True)\n",
    "\n",
    "\n",
    "def check_num(x):\n",
    "    if x.isnumeric():\n",
    "        return \"XXXtokenNumberXXX\"\n",
    "    else:\n",
    "        return x\n",
    "\n",
    "\n",
    "def tokenizer(txt):\n",
    "    token_pattern = r\"\"\"([0-9]+|[A-Za-z_]\\w*\\b|[!\\#\\$%\\&\\*\\+:\\-\\./<=>\\?@\\\\\\^_\\|\\~]+|[\\t\\(\\),;\\{\\}\\[\\]\"'`])\"\"\"\n",
    "    tokens = re.findall(token_pattern, txt)\n",
    "    tokens = list(map(check_num, tokens))\n",
    "    return tokens\n",
    "\n",
    "X_train, X_test, y_train, y_test = ms.train_test_split(file_list, file_ext, test_size=0.25)\n",
    "transformer = FunctionTransformer(preprocess)\n",
    "tfidf_vectorizer = fe.text.TfidfVectorizer(ngram_range=range(1, 3), tokenizer=tokenizer, max_features=4000)\n",
    "# Visualization\n",
    "X = tfidf_vectorizer.fit_transform(transformer.fit_transform(X_train))\n",
    "\n",
    "\n",
    "lb = LabelBinarizer()\n",
    "lb.fit(accepted)\n",
    "        \n",
    "pca = PCA(n_components=2)\n",
    "two_dim = pca.fit_transform(X.todense())\n",
    "s = [1 for n in range(len(two_dim[:, 0]))]\n",
    "plt.scatter(two_dim[:, 0], two_dim[:, 1], s=s)\n",
    "plt\n",
    "pd.DataFrame(X.toarray(), columns=tfidf_vectorizer.get_feature_names())"
   ]
  },
  {
   "cell_type": "markdown",
   "metadata": {
    "id": "2ZSZ8JWDtQFj"
   },
   "source": [
    "# ML Parameters"
   ]
  },
  {
   "cell_type": "markdown",
   "metadata": {
    "id": "EzwJ3dT67iDw"
   },
   "source": [
    "Modelli, e relativi parametri, che vengono testati "
   ]
  },
  {
   "cell_type": "code",
   "execution_count": 4,
   "metadata": {
    "id": "Mm9olfBftfIz",
    "scrolled": true
   },
   "outputs": [],
   "source": [
    "result = []\n",
    "\n",
    "y_train_enc = lb.transform(y_train)\n",
    "\n",
    "input_dim = X.toarray().shape[1]\n",
    "output_dim = len(y_train_enc[0])\n",
    "dim = int(2/3 * input_dim + output_dim)\n",
    "\n",
    "def baseline_model():\n",
    "    # create model\n",
    "    model = Sequential()\n",
    "    model.add(Dense(dim, input_dim=input_dim, activation='relu'))\n",
    "    model.add(Dropout(0.2, input_shape=(dim,)))\n",
    "    model.add(Dense(dim, activation='relu'))\n",
    "    model.add(Dense(output_dim, activation='softmax'))\n",
    "    # Compile model\n",
    "    model.compile(loss='categorical_crossentropy', optimizer='adam', metrics=['acc'])\n",
    "    return model\n",
    "\n",
    "ann_model = KerasClassifier(build_fn=baseline_model)\n",
    "parameters = [\n",
    "    {\n",
    "        'clf':[ \n",
    "            Pipeline(\n",
    "                [\n",
    "                    ('transformer', FunctionTransformer(lambda x: x.todense(), accept_sparse=True)), \n",
    "                    ('clf', ann_model)\n",
    "                ]\n",
    "            )\n",
    "        ],\n",
    "        'name': 'ANN',\n",
    "        'clf__clf__epochs': [10,50],\n",
    "        'clf__clf__batch_size': [32,64,128],\n",
    "        'clf__clf__verbose': [0]\n",
    "    },\n",
    "    {\n",
    "        'clf': [RandomForestClassifier(n_jobs=-1)],\n",
    "        'name': 'RandomForestClassifier',\n",
    "        \"clf__n_estimators\": [400, 500, 700],\n",
    "        \"clf__criterion\": [\"gini\"],\n",
    "        \"clf__min_samples_split\": [3, 4],\n",
    "        \"clf__max_features\": [\"sqrt\", \"log2\"]\n",
    "    },\n",
    "    {\n",
    "        'clf': [SVC()],\n",
    "        'name': 'SVC',\n",
    "        'clf__C': [100,500, 1000, 10e5],\n",
    "        'clf__kernel': ['rbf'],\n",
    "        'clf__class_weight': ['balanced'],\n",
    "        'clf__probability': [True]\n",
    "    }\n",
    "]"
   ]
  },
  {
   "cell_type": "markdown",
   "metadata": {
    "id": "E3C9xwcVtwWN"
   },
   "source": [
    "# Fitting"
   ]
  },
  {
   "cell_type": "markdown",
   "metadata": {
    "id": "XMUIrITO7vpl"
   },
   "source": [
    "Tramite `CV`, viene fatto il training dei vari modelli e viene stampato un valore di Accuracy. I risultati vengono memorizzati in **result** per una comparazione successiva."
   ]
  },
  {
   "cell_type": "markdown",
   "metadata": {
    "id": "NOWgODKl_JmO"
   },
   "source": [
    "Di seguito una matrice di confusione per visualizzare i risultati. Questa matrice fa riferimento al miglior modello (Random Forest con parametri precedenti). I valori sono normalizzati. Il linguaggio che ha il peggior risultato è TypeScript che viene spesso confuso con Java e JavaScript."
   ]
  },
  {
   "cell_type": "code",
   "execution_count": 5,
   "metadata": {
    "colab": {
     "base_uri": "https://localhost:8080/",
     "height": 451
    },
    "id": "JildoZA3POaq",
    "outputId": "3ac64d7e-b81e-4c75-f270-dfdf63652ea2",
    "scrolled": true
   },
   "outputs": [
    {
     "name": "stdout",
     "output_type": "stream",
     "text": [
      "Fitting 3 folds for each of 4 candidates, totalling 12 fits\n",
      "[CV] clf__C=100, clf__class_weight=balanced, clf__kernel=rbf, clf__probability=True \n"
     ]
    },
    {
     "name": "stderr",
     "output_type": "stream",
     "text": [
      "[Parallel(n_jobs=1)]: Using backend SequentialBackend with 1 concurrent workers.\n"
     ]
    },
    {
     "name": "stdout",
     "output_type": "stream",
     "text": [
      "[CV]  clf__C=100, clf__class_weight=balanced, clf__kernel=rbf, clf__probability=True, total=   0.3s\n",
      "[CV] clf__C=100, clf__class_weight=balanced, clf__kernel=rbf, clf__probability=True \n"
     ]
    },
    {
     "name": "stderr",
     "output_type": "stream",
     "text": [
      "[Parallel(n_jobs=1)]: Done   1 out of   1 | elapsed:    0.3s remaining:    0.0s\n"
     ]
    },
    {
     "name": "stdout",
     "output_type": "stream",
     "text": [
      "[CV]  clf__C=100, clf__class_weight=balanced, clf__kernel=rbf, clf__probability=True, total=   0.3s\n",
      "[CV] clf__C=100, clf__class_weight=balanced, clf__kernel=rbf, clf__probability=True \n",
      "[CV]  clf__C=100, clf__class_weight=balanced, clf__kernel=rbf, clf__probability=True, total=   0.3s\n",
      "[CV] clf__C=500, clf__class_weight=balanced, clf__kernel=rbf, clf__probability=True \n",
      "[CV]  clf__C=500, clf__class_weight=balanced, clf__kernel=rbf, clf__probability=True, total=   0.3s\n",
      "[CV] clf__C=500, clf__class_weight=balanced, clf__kernel=rbf, clf__probability=True \n",
      "[CV]  clf__C=500, clf__class_weight=balanced, clf__kernel=rbf, clf__probability=True, total=   0.3s\n",
      "[CV] clf__C=500, clf__class_weight=balanced, clf__kernel=rbf, clf__probability=True \n",
      "[CV]  clf__C=500, clf__class_weight=balanced, clf__kernel=rbf, clf__probability=True, total=   0.3s\n",
      "[CV] clf__C=1000, clf__class_weight=balanced, clf__kernel=rbf, clf__probability=True \n",
      "[CV]  clf__C=1000, clf__class_weight=balanced, clf__kernel=rbf, clf__probability=True, total=   0.3s\n",
      "[CV] clf__C=1000, clf__class_weight=balanced, clf__kernel=rbf, clf__probability=True \n",
      "[CV]  clf__C=1000, clf__class_weight=balanced, clf__kernel=rbf, clf__probability=True, total=   0.3s\n",
      "[CV] clf__C=1000, clf__class_weight=balanced, clf__kernel=rbf, clf__probability=True \n",
      "[CV]  clf__C=1000, clf__class_weight=balanced, clf__kernel=rbf, clf__probability=True, total=   0.3s\n",
      "[CV] clf__C=1000000.0, clf__class_weight=balanced, clf__kernel=rbf, clf__probability=True \n",
      "[CV]  clf__C=1000000.0, clf__class_weight=balanced, clf__kernel=rbf, clf__probability=True, total=   0.3s\n",
      "[CV] clf__C=1000000.0, clf__class_weight=balanced, clf__kernel=rbf, clf__probability=True \n",
      "[CV]  clf__C=1000000.0, clf__class_weight=balanced, clf__kernel=rbf, clf__probability=True, total=   0.3s\n",
      "[CV] clf__C=1000000.0, clf__class_weight=balanced, clf__kernel=rbf, clf__probability=True \n",
      "[CV]  clf__C=1000000.0, clf__class_weight=balanced, clf__kernel=rbf, clf__probability=True, total=   0.3s\n"
     ]
    },
    {
     "name": "stderr",
     "output_type": "stream",
     "text": [
      "[Parallel(n_jobs=1)]: Done  12 out of  12 | elapsed:    3.5s finished\n"
     ]
    },
    {
     "name": "stdout",
     "output_type": "stream",
     "text": [
      " - SVC Accuracy: 0.65\n"
     ]
    },
    {
     "data": {
      "text/plain": [
       "<module 'matplotlib.pyplot' from '/home/federico/.local/lib/python3.8/site-packages/matplotlib/pyplot.py'>"
      ]
     },
     "execution_count": 5,
     "metadata": {},
     "output_type": "execute_result"
    },
    {
     "data": {
      "image/png": "[encoded data removed]",
      "text/plain": [
       "<Figure size 1000x700 with 2 Axes>"
      ]
     },
     "metadata": {},
     "output_type": "display_data"
    }
   ],
   "source": [
    "clf = parameters[2]['clf'][0]\n",
    "name = parameters[2]['name']\n",
    "parameters[2].pop('clf')\n",
    "parameters[2].pop('name')\n",
    "\n",
    "pipe_RF = Pipeline([\n",
    "    ('preprocessing', transformer),\n",
    "    ('vectorizer', tfidf_vectorizer),\n",
    "    ('clf', clf)]\n",
    ")\n",
    "grid = GridSearchCV(pipe_RF, param_grid=parameters[2], cv=3, verbose=2)\n",
    "\n",
    "grid.fit(X_train, y_train)\n",
    "# Evaluation\n",
    "print(f' - {name} Accuracy: {grid.score(X_test, y_test)}')\n",
    "\n",
    "# storing result\n",
    "result.append({\n",
    "    'grid': grid,\n",
    "    'name': name,\n",
    "    'classifier': grid.best_estimator_,\n",
    "    'best score': grid.best_score_,\n",
    "    'best params': grid.best_params_,\n",
    "    'cv': grid.cv\n",
    "    })\n",
    "\n",
    "SVC = result[-1]\n",
    "\n",
    "y_pred = SVC[\"grid\"].best_estimator_.predict(X_test)\n",
    "\n",
    "array = confusion_matrix(y_test, y_pred, normalize='true', labels=accepted)\n",
    "df_cm = pd.DataFrame(array, index =accepted,\n",
    "              columns =accepted)\n",
    "plt.figure(figsize = (10,7))\n",
    "sn.heatmap(df_cm, annot=True,cmap=\"Blues\")\n",
    "plt.yticks(rotation=0)\n",
    "plt"
   ]
  },
  {
   "cell_type": "markdown",
   "metadata": {
    "id": "-WcM3fCeKG9l"
   },
   "source": [
    "Questa matrice fa riferimento al secondo miglior modello (SVM con kernel=RBF e C=50). I valori sono normalizzati. Il linguaggio che ha il peggior risultato è TypeScript che viene spesso confuso con Java, JavaScript e C++."
   ]
  },
  {
   "cell_type": "code",
   "execution_count": null,
   "metadata": {
    "colab": {
     "base_uri": "https://localhost:8080/",
     "height": 451
    },
    "id": "iEdCuJPrZDPR",
    "outputId": "f9e58d27-730e-46dd-da54-6167273c7a84",
    "scrolled": true
   },
   "outputs": [
    {
     "name": "stdout",
     "output_type": "stream",
     "text": [
      "Fitting 3 folds for each of 6 candidates, totalling 18 fits\n",
      "[CV] clf__clf__batch_size=32, clf__clf__epochs=10, clf__clf__verbose=0 \n"
     ]
    },
    {
     "name": "stderr",
     "output_type": "stream",
     "text": [
      "[Parallel(n_jobs=1)]: Using backend SequentialBackend with 1 concurrent workers.\n"
     ]
    },
    {
     "name": "stdout",
     "output_type": "stream",
     "text": [
      "[CV]  clf__clf__batch_size=32, clf__clf__epochs=10, clf__clf__verbose=0, total=   3.3s\n",
      "[CV] clf__clf__batch_size=32, clf__clf__epochs=10, clf__clf__verbose=0 \n"
     ]
    },
    {
     "name": "stderr",
     "output_type": "stream",
     "text": [
      "[Parallel(n_jobs=1)]: Done   1 out of   1 | elapsed:    3.3s remaining:    0.0s\n"
     ]
    },
    {
     "name": "stdout",
     "output_type": "stream",
     "text": [
      "[CV]  clf__clf__batch_size=32, clf__clf__epochs=10, clf__clf__verbose=0, total=   3.1s\n",
      "[CV] clf__clf__batch_size=32, clf__clf__epochs=10, clf__clf__verbose=0 \n",
      "[CV]  clf__clf__batch_size=32, clf__clf__epochs=10, clf__clf__verbose=0, total=   3.1s\n",
      "[CV] clf__clf__batch_size=32, clf__clf__epochs=50, clf__clf__verbose=0 \n",
      "[CV]  clf__clf__batch_size=32, clf__clf__epochs=50, clf__clf__verbose=0, total=  13.0s\n",
      "[CV] clf__clf__batch_size=32, clf__clf__epochs=50, clf__clf__verbose=0 \n",
      "WARNING:tensorflow:5 out of the last 13 calls to <function Model.make_test_function.<locals>.test_function at 0x7f6b80134670> triggered tf.function retracing. Tracing is expensive and the excessive number of tracings could be due to (1) creating @tf.function repeatedly in a loop, (2) passing tensors with different shapes, (3) passing Python objects instead of tensors. For (1), please define your @tf.function outside of the loop. For (2), @tf.function has experimental_relax_shapes=True option that relaxes argument shapes that can avoid unnecessary retracing. For (3), please refer to https://www.tensorflow.org/guide/function#controlling_retracing and https://www.tensorflow.org/api_docs/python/tf/function for  more details.\n",
      "[CV]  clf__clf__batch_size=32, clf__clf__epochs=50, clf__clf__verbose=0, total=  12.9s\n",
      "[CV] clf__clf__batch_size=32, clf__clf__epochs=50, clf__clf__verbose=0 \n",
      "WARNING:tensorflow:5 out of the last 13 calls to <function Model.make_test_function.<locals>.test_function at 0x7f6b8006b790> triggered tf.function retracing. Tracing is expensive and the excessive number of tracings could be due to (1) creating @tf.function repeatedly in a loop, (2) passing tensors with different shapes, (3) passing Python objects instead of tensors. For (1), please define your @tf.function outside of the loop. For (2), @tf.function has experimental_relax_shapes=True option that relaxes argument shapes that can avoid unnecessary retracing. For (3), please refer to https://www.tensorflow.org/guide/function#controlling_retracing and https://www.tensorflow.org/api_docs/python/tf/function for  more details.\n",
      "[CV]  clf__clf__batch_size=32, clf__clf__epochs=50, clf__clf__verbose=0, total=  13.1s\n",
      "[CV] clf__clf__batch_size=64, clf__clf__epochs=10, clf__clf__verbose=0 \n",
      "WARNING:tensorflow:5 out of the last 13 calls to <function Model.make_test_function.<locals>.test_function at 0x7f6b786b2a60> triggered tf.function retracing. Tracing is expensive and the excessive number of tracings could be due to (1) creating @tf.function repeatedly in a loop, (2) passing tensors with different shapes, (3) passing Python objects instead of tensors. For (1), please define your @tf.function outside of the loop. For (2), @tf.function has experimental_relax_shapes=True option that relaxes argument shapes that can avoid unnecessary retracing. For (3), please refer to https://www.tensorflow.org/guide/function#controlling_retracing and https://www.tensorflow.org/api_docs/python/tf/function for  more details.\n",
      "[CV]  clf__clf__batch_size=64, clf__clf__epochs=10, clf__clf__verbose=0, total=   2.1s\n",
      "[CV] clf__clf__batch_size=64, clf__clf__epochs=10, clf__clf__verbose=0 \n",
      "WARNING:tensorflow:5 out of the last 12 calls to <function Model.make_test_function.<locals>.test_function at 0x7f6b784c7940> triggered tf.function retracing. Tracing is expensive and the excessive number of tracings could be due to (1) creating @tf.function repeatedly in a loop, (2) passing tensors with different shapes, (3) passing Python objects instead of tensors. For (1), please define your @tf.function outside of the loop. For (2), @tf.function has experimental_relax_shapes=True option that relaxes argument shapes that can avoid unnecessary retracing. For (3), please refer to https://www.tensorflow.org/guide/function#controlling_retracing and https://www.tensorflow.org/api_docs/python/tf/function for  more details.\n",
      "[CV]  clf__clf__batch_size=64, clf__clf__epochs=10, clf__clf__verbose=0, total=   2.1s\n",
      "[CV] clf__clf__batch_size=64, clf__clf__epochs=10, clf__clf__verbose=0 \n",
      "WARNING:tensorflow:5 out of the last 11 calls to <function Model.make_test_function.<locals>.test_function at 0x7f6b78402790> triggered tf.function retracing. Tracing is expensive and the excessive number of tracings could be due to (1) creating @tf.function repeatedly in a loop, (2) passing tensors with different shapes, (3) passing Python objects instead of tensors. For (1), please define your @tf.function outside of the loop. For (2), @tf.function has experimental_relax_shapes=True option that relaxes argument shapes that can avoid unnecessary retracing. For (3), please refer to https://www.tensorflow.org/guide/function#controlling_retracing and https://www.tensorflow.org/api_docs/python/tf/function for  more details.\n",
      "[CV]  clf__clf__batch_size=64, clf__clf__epochs=10, clf__clf__verbose=0, total=   2.1s\n",
      "[CV] clf__clf__batch_size=64, clf__clf__epochs=50, clf__clf__verbose=0 \n",
      "WARNING:tensorflow:6 out of the last 13 calls to <function Model.make_test_function.<locals>.test_function at 0x7f6bb2e20dc0> triggered tf.function retracing. Tracing is expensive and the excessive number of tracings could be due to (1) creating @tf.function repeatedly in a loop, (2) passing tensors with different shapes, (3) passing Python objects instead of tensors. For (1), please define your @tf.function outside of the loop. For (2), @tf.function has experimental_relax_shapes=True option that relaxes argument shapes that can avoid unnecessary retracing. For (3), please refer to https://www.tensorflow.org/guide/function#controlling_retracing and https://www.tensorflow.org/api_docs/python/tf/function for  more details.\n",
      "[CV]  clf__clf__batch_size=64, clf__clf__epochs=50, clf__clf__verbose=0, total=   8.9s\n",
      "[CV] clf__clf__batch_size=64, clf__clf__epochs=50, clf__clf__verbose=0 \n",
      "WARNING:tensorflow:6 out of the last 12 calls to <function Model.make_test_function.<locals>.test_function at 0x7f6ba031ee50> triggered tf.function retracing. Tracing is expensive and the excessive number of tracings could be due to (1) creating @tf.function repeatedly in a loop, (2) passing tensors with different shapes, (3) passing Python objects instead of tensors. For (1), please define your @tf.function outside of the loop. For (2), @tf.function has experimental_relax_shapes=True option that relaxes argument shapes that can avoid unnecessary retracing. For (3), please refer to https://www.tensorflow.org/guide/function#controlling_retracing and https://www.tensorflow.org/api_docs/python/tf/function for  more details.\n",
      "[CV]  clf__clf__batch_size=64, clf__clf__epochs=50, clf__clf__verbose=0, total=   8.6s\n",
      "[CV] clf__clf__batch_size=64, clf__clf__epochs=50, clf__clf__verbose=0 \n",
      "WARNING:tensorflow:6 out of the last 11 calls to <function Model.make_test_function.<locals>.test_function at 0x7f6ba0422e50> triggered tf.function retracing. Tracing is expensive and the excessive number of tracings could be due to (1) creating @tf.function repeatedly in a loop, (2) passing tensors with different shapes, (3) passing Python objects instead of tensors. For (1), please define your @tf.function outside of the loop. For (2), @tf.function has experimental_relax_shapes=True option that relaxes argument shapes that can avoid unnecessary retracing. For (3), please refer to https://www.tensorflow.org/guide/function#controlling_retracing and https://www.tensorflow.org/api_docs/python/tf/function for  more details.\n",
      "[CV]  clf__clf__batch_size=64, clf__clf__epochs=50, clf__clf__verbose=0, total=   8.5s\n",
      "[CV] clf__clf__batch_size=128, clf__clf__epochs=10, clf__clf__verbose=0 \n",
      "WARNING:tensorflow:6 out of the last 11 calls to <function Model.make_test_function.<locals>.test_function at 0x7f6ba36ca8b0> triggered tf.function retracing. Tracing is expensive and the excessive number of tracings could be due to (1) creating @tf.function repeatedly in a loop, (2) passing tensors with different shapes, (3) passing Python objects instead of tensors. For (1), please define your @tf.function outside of the loop. For (2), @tf.function has experimental_relax_shapes=True option that relaxes argument shapes that can avoid unnecessary retracing. For (3), please refer to https://www.tensorflow.org/guide/function#controlling_retracing and https://www.tensorflow.org/api_docs/python/tf/function for  more details.\n"
     ]
    },
    {
     "name": "stdout",
     "output_type": "stream",
     "text": [
      "[CV]  clf__clf__batch_size=128, clf__clf__epochs=10, clf__clf__verbose=0, total=   1.6s\n",
      "[CV] clf__clf__batch_size=128, clf__clf__epochs=10, clf__clf__verbose=0 \n",
      "WARNING:tensorflow:7 out of the last 12 calls to <function Model.make_test_function.<locals>.test_function at 0x7f6b804e9700> triggered tf.function retracing. Tracing is expensive and the excessive number of tracings could be due to (1) creating @tf.function repeatedly in a loop, (2) passing tensors with different shapes, (3) passing Python objects instead of tensors. For (1), please define your @tf.function outside of the loop. For (2), @tf.function has experimental_relax_shapes=True option that relaxes argument shapes that can avoid unnecessary retracing. For (3), please refer to https://www.tensorflow.org/guide/function#controlling_retracing and https://www.tensorflow.org/api_docs/python/tf/function for  more details.\n",
      "[CV]  clf__clf__batch_size=128, clf__clf__epochs=10, clf__clf__verbose=0, total=   1.6s\n",
      "[CV] clf__clf__batch_size=128, clf__clf__epochs=10, clf__clf__verbose=0 \n",
      "WARNING:tensorflow:7 out of the last 11 calls to <function Model.make_test_function.<locals>.test_function at 0x7f6b78470a60> triggered tf.function retracing. Tracing is expensive and the excessive number of tracings could be due to (1) creating @tf.function repeatedly in a loop, (2) passing tensors with different shapes, (3) passing Python objects instead of tensors. For (1), please define your @tf.function outside of the loop. For (2), @tf.function has experimental_relax_shapes=True option that relaxes argument shapes that can avoid unnecessary retracing. For (3), please refer to https://www.tensorflow.org/guide/function#controlling_retracing and https://www.tensorflow.org/api_docs/python/tf/function for  more details.\n",
      "[CV]  clf__clf__batch_size=128, clf__clf__epochs=10, clf__clf__verbose=0, total=   1.6s\n",
      "[CV] clf__clf__batch_size=128, clf__clf__epochs=50, clf__clf__verbose=0 \n",
      "WARNING:tensorflow:8 out of the last 12 calls to <function Model.make_test_function.<locals>.test_function at 0x7f6b8016b820> triggered tf.function retracing. Tracing is expensive and the excessive number of tracings could be due to (1) creating @tf.function repeatedly in a loop, (2) passing tensors with different shapes, (3) passing Python objects instead of tensors. For (1), please define your @tf.function outside of the loop. For (2), @tf.function has experimental_relax_shapes=True option that relaxes argument shapes that can avoid unnecessary retracing. For (3), please refer to https://www.tensorflow.org/guide/function#controlling_retracing and https://www.tensorflow.org/api_docs/python/tf/function for  more details.\n",
      "[CV]  clf__clf__batch_size=128, clf__clf__epochs=50, clf__clf__verbose=0, total=   6.2s\n",
      "[CV] clf__clf__batch_size=128, clf__clf__epochs=50, clf__clf__verbose=0 \n",
      "WARNING:tensorflow:8 out of the last 11 calls to <function Model.make_test_function.<locals>.test_function at 0x7f6b80346f70> triggered tf.function retracing. Tracing is expensive and the excessive number of tracings could be due to (1) creating @tf.function repeatedly in a loop, (2) passing tensors with different shapes, (3) passing Python objects instead of tensors. For (1), please define your @tf.function outside of the loop. For (2), @tf.function has experimental_relax_shapes=True option that relaxes argument shapes that can avoid unnecessary retracing. For (3), please refer to https://www.tensorflow.org/guide/function#controlling_retracing and https://www.tensorflow.org/api_docs/python/tf/function for  more details.\n",
      "[CV]  clf__clf__batch_size=128, clf__clf__epochs=50, clf__clf__verbose=0, total=   6.1s\n",
      "[CV] clf__clf__batch_size=128, clf__clf__epochs=50, clf__clf__verbose=0 \n",
      "WARNING:tensorflow:9 out of the last 12 calls to <function Model.make_test_function.<locals>.test_function at 0x7f6b80106b80> triggered tf.function retracing. Tracing is expensive and the excessive number of tracings could be due to (1) creating @tf.function repeatedly in a loop, (2) passing tensors with different shapes, (3) passing Python objects instead of tensors. For (1), please define your @tf.function outside of the loop. For (2), @tf.function has experimental_relax_shapes=True option that relaxes argument shapes that can avoid unnecessary retracing. For (3), please refer to https://www.tensorflow.org/guide/function#controlling_retracing and https://www.tensorflow.org/api_docs/python/tf/function for  more details.\n",
      "[CV]  clf__clf__batch_size=128, clf__clf__epochs=50, clf__clf__verbose=0, total=   6.0s\n"
     ]
    },
    {
     "name": "stderr",
     "output_type": "stream",
     "text": [
      "[Parallel(n_jobs=1)]: Done  18 out of  18 | elapsed:  1.7min finished\n"
     ]
    },
    {
     "name": "stdout",
     "output_type": "stream",
     "text": [
      "WARNING:tensorflow:9 out of the last 11 calls to <function Model.make_test_function.<locals>.test_function at 0x7f6b783fb280> triggered tf.function retracing. Tracing is expensive and the excessive number of tracings could be due to (1) creating @tf.function repeatedly in a loop, (2) passing tensors with different shapes, (3) passing Python objects instead of tensors. For (1), please define your @tf.function outside of the loop. For (2), @tf.function has experimental_relax_shapes=True option that relaxes argument shapes that can avoid unnecessary retracing. For (3), please refer to https://www.tensorflow.org/guide/function#controlling_retracing and https://www.tensorflow.org/api_docs/python/tf/function for  more details.\n",
      " - ANN Accuracy: 0.7749999761581421\n"
     ]
    },
    {
     "name": "stderr",
     "output_type": "stream",
     "text": [
      "/home/federico/anaconda3/lib/python3.8/site-packages/tensorflow/python/keras/engine/sequential.py:450: UserWarning: `model.predict_classes()` is deprecated and will be removed after 2021-01-01. Please use instead:* `np.argmax(model.predict(x), axis=-1)`,   if your model does multi-class classification   (e.g. if it uses a `softmax` last-layer activation).* `(model.predict(x) > 0.5).astype(\"int32\")`,   if your model does binary classification   (e.g. if it uses a `sigmoid` last-layer activation).\n",
      "  warnings.warn('`model.predict_classes()` is deprecated and '\n"
     ]
    },
    {
     "data": {
      "text/plain": [
       "<module 'matplotlib.pyplot' from '/home/federico/.local/lib/python3.8/site-packages/matplotlib/pyplot.py'>"
      ]
     },
     "execution_count": 6,
     "metadata": {},
     "output_type": "execute_result"
    }
   ],
   "source": [
    "clf = parameters[0]['clf'][0]\n",
    "name = parameters[0]['name']\n",
    "parameters[0].pop('clf')\n",
    "parameters[0].pop('name')\n",
    "\n",
    "pipe_RF = Pipeline([\n",
    "    ('preprocessing', transformer),\n",
    "    ('vectorizer', tfidf_vectorizer),\n",
    "    ('clf', clf)]\n",
    ")\n",
    "grid = GridSearchCV(pipe_RF, param_grid=parameters[0], cv=3, verbose=2)\n",
    "\n",
    "grid.fit(X_train, lb.transform(y_train))\n",
    "# Evaluation\n",
    "print(f' - {name} Accuracy: {grid.score(X_test, lb.transform(y_test))}')\n",
    "\n",
    "# storing result\n",
    "result.append({\n",
    "    'grid': grid,\n",
    "    'name': name,\n",
    "    'classifier': grid.best_estimator_,\n",
    "    'best score': grid.best_score_,\n",
    "    'best params': grid.best_params_,\n",
    "    'cv': grid.cv\n",
    "    })\n",
    "\n",
    "ANN = result[-1]\n",
    "\n",
    "y_pred = ANN[\"grid\"].best_estimator_.predict(X_test)\n",
    "\n",
    "def map_to_array(x):\n",
    "    final = [0] * len(accepted)\n",
    "    final[x] = 1\n",
    "    return final\n",
    "    \n",
    "y_pred = np.array(list(map(map_to_array, list(y_pred))))\n",
    "conf_matrix = confusion_matrix(y_test, lb.inverse_transform(y_pred), normalize='true', labels=accepted)\n",
    "df_cm = pd.DataFrame(conf_matrix, index=accepted,\n",
    "                     columns=accepted)\n",
    "plt.figure(figsize=(10, 7))\n",
    "sn.heatmap(df_cm, annot=True,cmap=\"Blues\")\n",
    "plt"
   ]
  },
  {
   "cell_type": "markdown",
   "metadata": {
    "id": "T1xRBY1vJ7OW"
   },
   "source": [
    "Questa matrice fa riferimento al miglior modello (Random Forest con parametri precedenti). I valori sono discreti. Il linguaggio che ha il peggior risultato è TypeScript che viene spesso confuso con Java e JavaScript."
   ]
  },
  {
   "cell_type": "code",
   "execution_count": null,
   "metadata": {
    "colab": {
     "base_uri": "https://localhost:8080/",
     "height": 447
    },
    "id": "O6CgophjUoRv",
    "outputId": "73db38c5-6003-47f3-f002-e5d752128458",
    "scrolled": true
   },
   "outputs": [],
   "source": [
    "clf = parameters[1]['clf'][0]\n",
    "name = parameters[1]['name']\n",
    "parameters[1].pop('clf')\n",
    "parameters[1].pop('name')\n",
    "\n",
    "pipe_RF = Pipeline([\n",
    "    ('preprocessing', transformer),\n",
    "    ('vectorizer', tfidf_vectorizer),\n",
    "    ('clf', clf)]\n",
    ")\n",
    "grid = GridSearchCV(pipe_RF, param_grid=parameters[1], cv=3, verbose=2)\n",
    "\n",
    "grid.fit(X_train, y_train)\n",
    "# Evaluation\n",
    "print(f' - {name} Accuracy: {grid.score(X_test, y_test)}')\n",
    "\n",
    "# storing result\n",
    "result.append({\n",
    "    'grid': grid,\n",
    "    'name': name,\n",
    "    'classifier': grid.best_estimator_,\n",
    "    'best score': grid.best_score_,\n",
    "    'best params': grid.best_params_,\n",
    "    'cv': grid.cv\n",
    "    })\n",
    "\n",
    "RandomForestP = result[-1]\n",
    "\n",
    "y_pred = RandomForestP[\"grid\"].best_estimator_.predict(X_test)\n",
    "\n",
    "array = confusion_matrix(y_test, y_pred, normalize='true', labels=accepted)\n",
    "df_cm = pd.DataFrame(array, index =accepted,\n",
    "              columns =accepted)\n",
    "plt.figure(figsize = (10,7))\n",
    "sn.heatmap(df_cm, annot=True,cmap=\"Blues\")\n",
    "plt.yticks(rotation=0)\n",
    "plt"
   ]
  },
  {
   "cell_type": "markdown",
   "metadata": {
    "id": "x37OIn5vHy36"
   },
   "source": [
    "Per Random Forest mostro le 20 stringhe con *feature importances* più alto:"
   ]
  },
  {
   "cell_type": "code",
   "execution_count": null,
   "metadata": {
    "colab": {
     "base_uri": "https://localhost:8080/",
     "height": 447
    },
    "id": "GDEuUukXVkeM",
    "outputId": "4d9caa75-19a6-4e5b-c2c8-14b7dc9066f4"
   },
   "outputs": [],
   "source": [
    "plt.style.use('seaborn')\n",
    "        \n",
    "importances = RandomForestP[\"grid\"].best_estimator_[\"clf\"].feature_importances_\n",
    "\n",
    "plt.figure(figsize = (10,7))\n",
    "\n",
    "(pd.Series(importances, index=tfidf_vectorizer.get_feature_names())\n",
    "   .nlargest(20)\n",
    "   .plot(kind='barh'))  "
   ]
  },
  {
   "cell_type": "markdown",
   "metadata": {
    "id": "e4e4mgIUuFD6"
   },
   "source": [
    "# Comparison\n"
   ]
  },
  {
   "cell_type": "markdown",
   "metadata": {
    "id": "_mbof2ho8ikG"
   },
   "source": [
    "Comparazione tra i migliori:"
   ]
  },
  {
   "cell_type": "code",
   "execution_count": null,
   "metadata": {
    "colab": {
     "base_uri": "https://localhost:8080/",
     "height": 206
    },
    "id": "5eJvZbFnuCAG",
    "outputId": "b0f31eed-d0f7-4fa9-9ad2-f74dd0a7e4b2"
   },
   "outputs": [],
   "source": [
    "result = sorted(result, key=operator.itemgetter('best score'), reverse=True)\n",
    "\n",
    "pd.DataFrame.from_dict([{\n",
    "      'name':v['name'],\n",
    "      'score': v['best score'],\n",
    "      'param': v['best params']\n",
    "     } for v in result])"
   ]
  },
  {
   "cell_type": "markdown",
   "metadata": {
    "id": "PCLUOFKS8mGP"
   },
   "source": [
    "Quelli che risultano essere i migliori parametri:"
   ]
  },
  {
   "cell_type": "code",
   "execution_count": null,
   "metadata": {
    "colab": {
     "base_uri": "https://localhost:8080/"
    },
    "id": "gf0qL6jIxGJg",
    "outputId": "ab8237c5-16ae-49b0-a35e-1e96370e5a72",
    "scrolled": false
   },
   "outputs": [],
   "source": [
    "result[0]['best params']"
   ]
  },
  {
   "cell_type": "code",
   "execution_count": null,
   "metadata": {},
   "outputs": [],
   "source": [
    "result[1]['best params']"
   ]
  },
  {
   "cell_type": "code",
   "execution_count": null,
   "metadata": {},
   "outputs": [],
   "source": [
    "result[2]['best params']"
   ]
  }
 ],
 "metadata": {
  "colab": {
   "collapsed_sections": [],
   "name": "SourceCodeClassifier-4000.ipynb",
   "provenance": []
  },
  "kernelspec": {
   "display_name": "Python 3",
   "language": "python",
   "name": "python3"
  },
  "language_info": {
   "codemirror_mode": {
    "name": "ipython",
    "version": 3
   },
   "file_extension": ".py",
   "mimetype": "text/x-python",
   "name": "python",
   "nbconvert_exporter": "python",
   "pygments_lexer": "ipython3",
   "version": "3.8.5"
  }
 },
 "nbformat": 4,
 "nbformat_minor": 1
}
