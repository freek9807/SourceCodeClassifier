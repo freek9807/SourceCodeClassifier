{
 "cells": [
  {
   "cell_type": "markdown",
   "metadata": {
    "id": "-ngQJ_O8OT5l"
   },
   "source": [
    "# Introduction"
   ]
  },
  {
   "cell_type": "markdown",
   "metadata": {
    "id": "Gp-VibwVOpu9"
   },
   "source": [
    "Importo il necessario\n"
   ]
  },
  {
   "cell_type": "code",
   "execution_count": 1,
   "metadata": {
    "id": "l94AynHuURyS"
   },
   "outputs": [],
   "source": [
    "import os\n",
    "import operator\n",
    "import random\n",
    "import re\n",
    "import csv\n",
    "import numpy as np\n",
    "import pandas as pd\n",
    "import seaborn as sn\n",
    "import ghlinguist as ghl\n",
    "import os.path\n",
    "%matplotlib inline\n",
    "import matplotlib.pyplot as plt\n",
    "import sklearn.feature_extraction as fe\n",
    "import sklearn.model_selection as ms\n",
    "from sklearn.ensemble import RandomForestClassifier\n",
    "from sklearn.preprocessing import FunctionTransformer, LabelBinarizer\n",
    "from sklearn.linear_model import LogisticRegression\n",
    "from sklearn.neighbors import KNeighborsClassifier\n",
    "from sklearn.tree import DecisionTreeClassifier\n",
    "from keras.models import Sequential\n",
    "from keras.layers import Dense\n",
    "from keras.layers import Dropout\n",
    "from tensorflow.python.keras.wrappers.scikit_learn import KerasClassifier\n",
    "from sklearn.pipeline import Pipeline\n",
    "from sklearn.model_selection import GridSearchCV\n",
    "from sklearn.svm import SVC\n",
    "from sklearn.metrics import confusion_matrix\n",
    "from sklearn.decomposition import PCA\n",
    "plt.style.use('seaborn')"
   ]
  },
  {
   "cell_type": "markdown",
   "metadata": {
    "id": "3A-ZYXbCp0J3"
   },
   "source": [
    "# Document retrieval"
   ]
  },
  {
   "cell_type": "markdown",
   "metadata": {
    "id": "LsZQc4ngPKMg"
   },
   "source": [
    "Vado a recuperare i file che mi servono per la fase di training/testing. Il ciclo `for` serve per cerca nella repo clonata tutti i file la cui estensione appartiene alla lista `accepted`. Le estensioni presenti nell'array `accepted` sono le classi del classificatore. Quando un file che soddisfa il vincolo dell'estensione viene trovato, si controlla tramite il dict `file_num` che per quella estensione non sia già stato raggiunto il `max_num_of_files`. Infine, se tutti i controlli vengono superati, il file viene aggiunto all'array `file_list` e la sua estensione a `file_ext`. In `file_ext[i]` è presente l'estensione del file `file_list[i]`. La fine della cella serve per disegnare il Dataframe riepilogativo e un grafico a torta (attualmente inutile perchè viene usato un numero fisso di file `max_num_of_files`).\n",
    "\n"
   ]
  },
  {
   "cell_type": "code",
   "execution_count": 2,
   "metadata": {
    "colab": {
     "base_uri": "https://localhost:8080/",
     "height": 862
    },
    "id": "m2VVIR4iqGiK",
    "outputId": "f54676fb-9721-4071-8d9b-c9d78c9d7bf2",
    "scrolled": false
   },
   "outputs": [
    {
     "name": "stdout",
     "output_type": "stream",
     "text": [
      "Num    1200\n",
      "dtype: int64\n"
     ]
    },
    {
     "name": "stderr",
     "output_type": "stream",
     "text": [
      "<ipython-input-2-8648a2224006>:43: UserWarning: Matplotlib is currently using module://ipykernel.pylab.backend_inline, which is a non-GUI backend, so cannot show the figure.\n",
      "  pie_chart.get_figure().show()\n"
     ]
    },
    {
     "data": {
      "text/html": [
       "<div>\n",
       "<style scoped>\n",
       "    .dataframe tbody tr th:only-of-type {\n",
       "        vertical-align: middle;\n",
       "    }\n",
       "\n",
       "    .dataframe tbody tr th {\n",
       "        vertical-align: top;\n",
       "    }\n",
       "\n",
       "    .dataframe thead th {\n",
       "        text-align: right;\n",
       "    }\n",
       "</style>\n",
       "<table border=\"1\" class=\"dataframe\">\n",
       "  <thead>\n",
       "    <tr style=\"text-align: right;\">\n",
       "      <th></th>\n",
       "      <th>Num</th>\n",
       "    </tr>\n",
       "  </thead>\n",
       "  <tbody>\n",
       "    <tr>\n",
       "      <th>C</th>\n",
       "      <td>50</td>\n",
       "    </tr>\n",
       "    <tr>\n",
       "      <th>Common Lisp</th>\n",
       "      <td>50</td>\n",
       "    </tr>\n",
       "    <tr>\n",
       "      <th>Go</th>\n",
       "      <td>50</td>\n",
       "    </tr>\n",
       "    <tr>\n",
       "      <th>TypeScript</th>\n",
       "      <td>50</td>\n",
       "    </tr>\n",
       "    <tr>\n",
       "      <th>Ruby</th>\n",
       "      <td>50</td>\n",
       "    </tr>\n",
       "    <tr>\n",
       "      <th>Prolog</th>\n",
       "      <td>50</td>\n",
       "    </tr>\n",
       "    <tr>\n",
       "      <th>CMake</th>\n",
       "      <td>50</td>\n",
       "    </tr>\n",
       "    <tr>\n",
       "      <th>Shell</th>\n",
       "      <td>50</td>\n",
       "    </tr>\n",
       "    <tr>\n",
       "      <th>OCaml</th>\n",
       "      <td>50</td>\n",
       "    </tr>\n",
       "    <tr>\n",
       "      <th>Makefile</th>\n",
       "      <td>50</td>\n",
       "    </tr>\n",
       "    <tr>\n",
       "      <th>JSON</th>\n",
       "      <td>50</td>\n",
       "    </tr>\n",
       "    <tr>\n",
       "      <th>CSS</th>\n",
       "      <td>50</td>\n",
       "    </tr>\n",
       "    <tr>\n",
       "      <th>HTML</th>\n",
       "      <td>50</td>\n",
       "    </tr>\n",
       "    <tr>\n",
       "      <th>YAML</th>\n",
       "      <td>50</td>\n",
       "    </tr>\n",
       "    <tr>\n",
       "      <th>Python</th>\n",
       "      <td>50</td>\n",
       "    </tr>\n",
       "    <tr>\n",
       "      <th>C++</th>\n",
       "      <td>50</td>\n",
       "    </tr>\n",
       "    <tr>\n",
       "      <th>Swift</th>\n",
       "      <td>50</td>\n",
       "    </tr>\n",
       "    <tr>\n",
       "      <th>XML</th>\n",
       "      <td>50</td>\n",
       "    </tr>\n",
       "    <tr>\n",
       "      <th>PHP</th>\n",
       "      <td>50</td>\n",
       "    </tr>\n",
       "    <tr>\n",
       "      <th>JavaScript</th>\n",
       "      <td>50</td>\n",
       "    </tr>\n",
       "    <tr>\n",
       "      <th>Rust</th>\n",
       "      <td>50</td>\n",
       "    </tr>\n",
       "    <tr>\n",
       "      <th>LLVM</th>\n",
       "      <td>50</td>\n",
       "    </tr>\n",
       "    <tr>\n",
       "      <th>Java</th>\n",
       "      <td>50</td>\n",
       "    </tr>\n",
       "    <tr>\n",
       "      <th>Scala</th>\n",
       "      <td>50</td>\n",
       "    </tr>\n",
       "  </tbody>\n",
       "</table>\n",
       "</div>"
      ],
      "text/plain": [
       "             Num\n",
       "C             50\n",
       "Common Lisp   50\n",
       "Go            50\n",
       "TypeScript    50\n",
       "Ruby          50\n",
       "Prolog        50\n",
       "CMake         50\n",
       "Shell         50\n",
       "OCaml         50\n",
       "Makefile      50\n",
       "JSON          50\n",
       "CSS           50\n",
       "HTML          50\n",
       "YAML          50\n",
       "Python        50\n",
       "C++           50\n",
       "Swift         50\n",
       "XML           50\n",
       "PHP           50\n",
       "JavaScript    50\n",
       "Rust          50\n",
       "LLVM          50\n",
       "Java          50\n",
       "Scala         50"
      ]
     },
     "execution_count": 2,
     "metadata": {},
     "output_type": "execute_result"
    },
    {
     "data": {
      "image/png": "[encoded data removed]",
      "text/plain": [
       "<Figure size 500x500 with 1 Axes>"
      ]
     },
     "metadata": {},
     "output_type": "display_data"
    }
   ],
   "source": [
    "plt.style.use('default')\n",
    "\n",
    "def check_open_utf8(f):\n",
    "    try:\n",
    "        open(f, 'r').read()\n",
    "        return True\n",
    "    except:\n",
    "        return False\n",
    "\n",
    "file_num = {}\n",
    "file_list = []\n",
    "file_ext = []\n",
    "accepted = [\"Java\", \"C++\", \"LLVM\", \"PHP\", \"C\", \"Rust\", \"Swift\", \"Common Lisp\", \"JavaScript\",\"YAML\", \\\n",
    "             \"Python\", \"HTML\", \"XML\", \"JSON\", \"Makefile\", \"OCaml\", \"Shell\", \"CMake\", \"Ruby\", \"TypeScript\", \\\n",
    "            \"Scala\", \"Go\", \"CSS\", \"Prolog\"]\n",
    "max_num_of_files = 50\n",
    "\n",
    "with open('source-code-set/listing.csv') as csv_file:\n",
    "    csv_reader = csv.reader(csv_file, delimiter=',')\n",
    "    for row in csv_reader:\n",
    "        if len(row) > 1:\n",
    "            if row[0] and row[1]:\n",
    "                if os.path.isfile(row[0]):\n",
    "                    if row[1] in accepted:\n",
    "                        add = False\n",
    "                        if check_open_utf8(row[0]):\n",
    "                            if row[1] in file_num:\n",
    "                                if file_num[row[1]] < max_num_of_files:\n",
    "                                    add = True\n",
    "                                    file_num[row[1]] += 1\n",
    "                            else:\n",
    "                                add = True\n",
    "                                file_num[row[1]] = 1\n",
    "                            if add:\n",
    "                                file_list.append(row[0])\n",
    "                                file_ext.append(row[1])\n",
    "    \n",
    "# Mostro in output le informazioni sui file acquisiti\n",
    "data = pd.DataFrame.from_dict(file_num, orient='index', columns=[\"Num\"])\n",
    "data = data.sort_values(by=[\"Num\"], ascending=False)\n",
    "# Disegno un grafico che le mostri\n",
    "pie_chart = data.plot.pie(y='Num', figsize=(5, 5))\n",
    "pie_chart.get_figure().show()\n",
    "plt.style.use('seaborn')\n",
    "print(data.sum(axis = 0, skipna = True))\n",
    "data"
   ]
  },
  {
   "cell_type": "markdown",
   "metadata": {
    "id": "q6YLyu3SpNVl"
   },
   "source": [
    "# NLP"
   ]
  },
  {
   "cell_type": "markdown",
   "metadata": {
    "id": "-MClGUUGV2PX"
   },
   "source": [
    "La funzione `preprocess` prende in input la lista contenente il nome dei file accettati nella sezione precedente, legge il contenuto dei documenti e restituisce una serie (di *Pandas*) con il contenuto dei file opportunamente modificato. Il primo e il secondo replace rimuovono tutte le stringhe del tipo `xxxx`, `aaaaa`, `b`, `c`. I successivi replace vanno a sostituire con delle keyword le porzioni di stringa contenenti commenti. Infatti, non mi interessa sapere il contenuto di un commento, è molto più interessante sapere il tipo di commento (e.g. `//.*?\\n` diventa `ccommentstyle` nei linguaggi C-like o `#.*?\\n` diventa `pycommentstyle` in quelli funzioniali/Python-like). Se si volessero inserire anche linguaggi come Prolog bisognerebbe aggiungere un replace per i commenti in stile `%.*?\\n`.\n",
    "\n"
   ]
  },
  {
   "cell_type": "markdown",
   "metadata": {
    "id": "a3iY7qKpbMS4"
   },
   "source": [
    "\n",
    "La funzione `tokenizer`, invece, tramite `re.findall()` cerca, nella stringa in input, tutte le occorrenze che coincidono con la regex `token_pattern`. Infine, `tokenizer` cerca tra i token restituiti da `re.findall()`quelli che sono numerici e li rimpiazza con un token predefinito `XXXtokenNumberXXX`. L'output della funzione è una lista di tokens."
   ]
  },
  {
   "cell_type": "markdown",
   "metadata": {
    "id": "9yz0xuRK5Gx_"
   },
   "source": [
    "A questo punto vengono divisi training e test set, oltre a venir dichiarati `transformer` e `tfidf_vectorizer`. Il `TfidfVectorizer` ha come tokenizer la funzione `tokenizer` (di cui si è discusso prima), un numero di feature massimo di 3000 e gli ngram spaziano da 1 a 3. Tramite il Dataframe si possono visualizzare le 3000 feature, riportate tramite `PCA` anche nel grafico."
   ]
  },
  {
   "cell_type": "code",
   "execution_count": 3,
   "metadata": {
    "colab": {
     "base_uri": "https://localhost:8080/",
     "height": 791
    },
    "id": "YHASebZjpMp6",
    "outputId": "b90412aa-23fe-4d60-bc78-5d411f35a95d"
   },
   "outputs": [
    {
     "data": {
      "image/png": "[encoded data removed]",
      "text/plain": [
       "<Figure size 800x550 with 1 Axes>"
      ]
     },
     "metadata": {},
     "output_type": "display_data"
    },
    {
     "data": {
      "text/html": [
       "<div>\n",
       "<style scoped>\n",
       "    .dataframe tbody tr th:only-of-type {\n",
       "        vertical-align: middle;\n",
       "    }\n",
       "\n",
       "    .dataframe tbody tr th {\n",
       "        vertical-align: top;\n",
       "    }\n",
       "\n",
       "    .dataframe thead th {\n",
       "        text-align: right;\n",
       "    }\n",
       "</style>\n",
       "<table border=\"1\" class=\"dataframe\">\n",
       "  <thead>\n",
       "    <tr style=\"text-align: right;\">\n",
       "      <th></th>\n",
       "      <th>\\t</th>\n",
       "      <th>\\t \\t</th>\n",
       "      <th>\\t $</th>\n",
       "      <th>\\t (</th>\n",
       "      <th>\\t -</th>\n",
       "      <th>\\t .</th>\n",
       "      <th>\\t &lt;</th>\n",
       "      <th>\\t @</th>\n",
       "      <th>\\t @$</th>\n",
       "      <th>\\t case</th>\n",
       "      <th>...</th>\n",
       "      <th>} return</th>\n",
       "      <th>} ruby_assert</th>\n",
       "      <th>} st</th>\n",
       "      <th>} subst</th>\n",
       "      <th>} switch</th>\n",
       "      <th>} val</th>\n",
       "      <th>} var</th>\n",
       "      <th>} {</th>\n",
       "      <th>} }</th>\n",
       "      <th>~</th>\n",
       "    </tr>\n",
       "  </thead>\n",
       "  <tbody>\n",
       "    <tr>\n",
       "      <th>0</th>\n",
       "      <td>0.000000</td>\n",
       "      <td>0.000000</td>\n",
       "      <td>0.0</td>\n",
       "      <td>0.0</td>\n",
       "      <td>0.0</td>\n",
       "      <td>0.000000</td>\n",
       "      <td>0.0</td>\n",
       "      <td>0.0</td>\n",
       "      <td>0.0</td>\n",
       "      <td>0.0</td>\n",
       "      <td>...</td>\n",
       "      <td>0.0</td>\n",
       "      <td>0.0</td>\n",
       "      <td>0.0</td>\n",
       "      <td>0.0</td>\n",
       "      <td>0.0</td>\n",
       "      <td>0.000000</td>\n",
       "      <td>0.0</td>\n",
       "      <td>0.000000</td>\n",
       "      <td>0.001482</td>\n",
       "      <td>0.0</td>\n",
       "    </tr>\n",
       "    <tr>\n",
       "      <th>1</th>\n",
       "      <td>0.000000</td>\n",
       "      <td>0.000000</td>\n",
       "      <td>0.0</td>\n",
       "      <td>0.0</td>\n",
       "      <td>0.0</td>\n",
       "      <td>0.000000</td>\n",
       "      <td>0.0</td>\n",
       "      <td>0.0</td>\n",
       "      <td>0.0</td>\n",
       "      <td>0.0</td>\n",
       "      <td>...</td>\n",
       "      <td>0.0</td>\n",
       "      <td>0.0</td>\n",
       "      <td>0.0</td>\n",
       "      <td>0.0</td>\n",
       "      <td>0.0</td>\n",
       "      <td>0.000000</td>\n",
       "      <td>0.0</td>\n",
       "      <td>0.000000</td>\n",
       "      <td>0.000000</td>\n",
       "      <td>0.0</td>\n",
       "    </tr>\n",
       "    <tr>\n",
       "      <th>2</th>\n",
       "      <td>0.000000</td>\n",
       "      <td>0.000000</td>\n",
       "      <td>0.0</td>\n",
       "      <td>0.0</td>\n",
       "      <td>0.0</td>\n",
       "      <td>0.000000</td>\n",
       "      <td>0.0</td>\n",
       "      <td>0.0</td>\n",
       "      <td>0.0</td>\n",
       "      <td>0.0</td>\n",
       "      <td>...</td>\n",
       "      <td>0.0</td>\n",
       "      <td>0.0</td>\n",
       "      <td>0.0</td>\n",
       "      <td>0.0</td>\n",
       "      <td>0.0</td>\n",
       "      <td>0.000000</td>\n",
       "      <td>0.0</td>\n",
       "      <td>0.242692</td>\n",
       "      <td>0.000000</td>\n",
       "      <td>0.0</td>\n",
       "    </tr>\n",
       "    <tr>\n",
       "      <th>3</th>\n",
       "      <td>0.000000</td>\n",
       "      <td>0.000000</td>\n",
       "      <td>0.0</td>\n",
       "      <td>0.0</td>\n",
       "      <td>0.0</td>\n",
       "      <td>0.000000</td>\n",
       "      <td>0.0</td>\n",
       "      <td>0.0</td>\n",
       "      <td>0.0</td>\n",
       "      <td>0.0</td>\n",
       "      <td>...</td>\n",
       "      <td>0.0</td>\n",
       "      <td>0.0</td>\n",
       "      <td>0.0</td>\n",
       "      <td>0.0</td>\n",
       "      <td>0.0</td>\n",
       "      <td>0.000000</td>\n",
       "      <td>0.0</td>\n",
       "      <td>0.000000</td>\n",
       "      <td>0.011053</td>\n",
       "      <td>0.0</td>\n",
       "    </tr>\n",
       "    <tr>\n",
       "      <th>4</th>\n",
       "      <td>0.771423</td>\n",
       "      <td>0.410061</td>\n",
       "      <td>0.0</td>\n",
       "      <td>0.0</td>\n",
       "      <td>0.0</td>\n",
       "      <td>0.076647</td>\n",
       "      <td>0.0</td>\n",
       "      <td>0.0</td>\n",
       "      <td>0.0</td>\n",
       "      <td>0.0</td>\n",
       "      <td>...</td>\n",
       "      <td>0.0</td>\n",
       "      <td>0.0</td>\n",
       "      <td>0.0</td>\n",
       "      <td>0.0</td>\n",
       "      <td>0.0</td>\n",
       "      <td>0.000000</td>\n",
       "      <td>0.0</td>\n",
       "      <td>0.000000</td>\n",
       "      <td>0.002526</td>\n",
       "      <td>0.0</td>\n",
       "    </tr>\n",
       "    <tr>\n",
       "      <th>...</th>\n",
       "      <td>...</td>\n",
       "      <td>...</td>\n",
       "      <td>...</td>\n",
       "      <td>...</td>\n",
       "      <td>...</td>\n",
       "      <td>...</td>\n",
       "      <td>...</td>\n",
       "      <td>...</td>\n",
       "      <td>...</td>\n",
       "      <td>...</td>\n",
       "      <td>...</td>\n",
       "      <td>...</td>\n",
       "      <td>...</td>\n",
       "      <td>...</td>\n",
       "      <td>...</td>\n",
       "      <td>...</td>\n",
       "      <td>...</td>\n",
       "      <td>...</td>\n",
       "      <td>...</td>\n",
       "      <td>...</td>\n",
       "      <td>...</td>\n",
       "    </tr>\n",
       "    <tr>\n",
       "      <th>895</th>\n",
       "      <td>0.000000</td>\n",
       "      <td>0.000000</td>\n",
       "      <td>0.0</td>\n",
       "      <td>0.0</td>\n",
       "      <td>0.0</td>\n",
       "      <td>0.000000</td>\n",
       "      <td>0.0</td>\n",
       "      <td>0.0</td>\n",
       "      <td>0.0</td>\n",
       "      <td>0.0</td>\n",
       "      <td>...</td>\n",
       "      <td>0.0</td>\n",
       "      <td>0.0</td>\n",
       "      <td>0.0</td>\n",
       "      <td>0.0</td>\n",
       "      <td>0.0</td>\n",
       "      <td>0.000000</td>\n",
       "      <td>0.0</td>\n",
       "      <td>0.000000</td>\n",
       "      <td>0.000000</td>\n",
       "      <td>0.0</td>\n",
       "    </tr>\n",
       "    <tr>\n",
       "      <th>896</th>\n",
       "      <td>0.713451</td>\n",
       "      <td>0.506167</td>\n",
       "      <td>0.0</td>\n",
       "      <td>0.0</td>\n",
       "      <td>0.0</td>\n",
       "      <td>0.000000</td>\n",
       "      <td>0.0</td>\n",
       "      <td>0.0</td>\n",
       "      <td>0.0</td>\n",
       "      <td>0.0</td>\n",
       "      <td>...</td>\n",
       "      <td>0.0</td>\n",
       "      <td>0.0</td>\n",
       "      <td>0.0</td>\n",
       "      <td>0.0</td>\n",
       "      <td>0.0</td>\n",
       "      <td>0.000000</td>\n",
       "      <td>0.0</td>\n",
       "      <td>0.000000</td>\n",
       "      <td>0.000000</td>\n",
       "      <td>0.0</td>\n",
       "    </tr>\n",
       "    <tr>\n",
       "      <th>897</th>\n",
       "      <td>0.000000</td>\n",
       "      <td>0.000000</td>\n",
       "      <td>0.0</td>\n",
       "      <td>0.0</td>\n",
       "      <td>0.0</td>\n",
       "      <td>0.000000</td>\n",
       "      <td>0.0</td>\n",
       "      <td>0.0</td>\n",
       "      <td>0.0</td>\n",
       "      <td>0.0</td>\n",
       "      <td>...</td>\n",
       "      <td>0.0</td>\n",
       "      <td>0.0</td>\n",
       "      <td>0.0</td>\n",
       "      <td>0.0</td>\n",
       "      <td>0.0</td>\n",
       "      <td>0.000000</td>\n",
       "      <td>0.0</td>\n",
       "      <td>0.000000</td>\n",
       "      <td>0.000000</td>\n",
       "      <td>0.0</td>\n",
       "    </tr>\n",
       "    <tr>\n",
       "      <th>898</th>\n",
       "      <td>0.000000</td>\n",
       "      <td>0.000000</td>\n",
       "      <td>0.0</td>\n",
       "      <td>0.0</td>\n",
       "      <td>0.0</td>\n",
       "      <td>0.000000</td>\n",
       "      <td>0.0</td>\n",
       "      <td>0.0</td>\n",
       "      <td>0.0</td>\n",
       "      <td>0.0</td>\n",
       "      <td>...</td>\n",
       "      <td>0.0</td>\n",
       "      <td>0.0</td>\n",
       "      <td>0.0</td>\n",
       "      <td>0.0</td>\n",
       "      <td>0.0</td>\n",
       "      <td>0.027674</td>\n",
       "      <td>0.0</td>\n",
       "      <td>0.000000</td>\n",
       "      <td>0.000000</td>\n",
       "      <td>0.0</td>\n",
       "    </tr>\n",
       "    <tr>\n",
       "      <th>899</th>\n",
       "      <td>0.000000</td>\n",
       "      <td>0.000000</td>\n",
       "      <td>0.0</td>\n",
       "      <td>0.0</td>\n",
       "      <td>0.0</td>\n",
       "      <td>0.000000</td>\n",
       "      <td>0.0</td>\n",
       "      <td>0.0</td>\n",
       "      <td>0.0</td>\n",
       "      <td>0.0</td>\n",
       "      <td>...</td>\n",
       "      <td>0.0</td>\n",
       "      <td>0.0</td>\n",
       "      <td>0.0</td>\n",
       "      <td>0.0</td>\n",
       "      <td>0.0</td>\n",
       "      <td>0.000000</td>\n",
       "      <td>0.0</td>\n",
       "      <td>0.000000</td>\n",
       "      <td>0.000000</td>\n",
       "      <td>0.0</td>\n",
       "    </tr>\n",
       "  </tbody>\n",
       "</table>\n",
       "<p>900 rows × 3000 columns</p>\n",
       "</div>"
      ],
      "text/plain": [
       "           \\t     \\t \\t  \\t $  \\t (  \\t -      \\t .  \\t <  \\t @  \\t @$  \\\n",
       "0    0.000000  0.000000   0.0   0.0   0.0  0.000000   0.0   0.0    0.0   \n",
       "1    0.000000  0.000000   0.0   0.0   0.0  0.000000   0.0   0.0    0.0   \n",
       "2    0.000000  0.000000   0.0   0.0   0.0  0.000000   0.0   0.0    0.0   \n",
       "3    0.000000  0.000000   0.0   0.0   0.0  0.000000   0.0   0.0    0.0   \n",
       "4    0.771423  0.410061   0.0   0.0   0.0  0.076647   0.0   0.0    0.0   \n",
       "..        ...       ...   ...   ...   ...       ...   ...   ...    ...   \n",
       "895  0.000000  0.000000   0.0   0.0   0.0  0.000000   0.0   0.0    0.0   \n",
       "896  0.713451  0.506167   0.0   0.0   0.0  0.000000   0.0   0.0    0.0   \n",
       "897  0.000000  0.000000   0.0   0.0   0.0  0.000000   0.0   0.0    0.0   \n",
       "898  0.000000  0.000000   0.0   0.0   0.0  0.000000   0.0   0.0    0.0   \n",
       "899  0.000000  0.000000   0.0   0.0   0.0  0.000000   0.0   0.0    0.0   \n",
       "\n",
       "     \\t case  ...  } return  } ruby_assert  } st  } subst  } switch     } val  \\\n",
       "0        0.0  ...       0.0            0.0   0.0      0.0       0.0  0.000000   \n",
       "1        0.0  ...       0.0            0.0   0.0      0.0       0.0  0.000000   \n",
       "2        0.0  ...       0.0            0.0   0.0      0.0       0.0  0.000000   \n",
       "3        0.0  ...       0.0            0.0   0.0      0.0       0.0  0.000000   \n",
       "4        0.0  ...       0.0            0.0   0.0      0.0       0.0  0.000000   \n",
       "..       ...  ...       ...            ...   ...      ...       ...       ...   \n",
       "895      0.0  ...       0.0            0.0   0.0      0.0       0.0  0.000000   \n",
       "896      0.0  ...       0.0            0.0   0.0      0.0       0.0  0.000000   \n",
       "897      0.0  ...       0.0            0.0   0.0      0.0       0.0  0.000000   \n",
       "898      0.0  ...       0.0            0.0   0.0      0.0       0.0  0.027674   \n",
       "899      0.0  ...       0.0            0.0   0.0      0.0       0.0  0.000000   \n",
       "\n",
       "     } var       } {       } }    ~  \n",
       "0      0.0  0.000000  0.001482  0.0  \n",
       "1      0.0  0.000000  0.000000  0.0  \n",
       "2      0.0  0.242692  0.000000  0.0  \n",
       "3      0.0  0.000000  0.011053  0.0  \n",
       "4      0.0  0.000000  0.002526  0.0  \n",
       "..     ...       ...       ...  ...  \n",
       "895    0.0  0.000000  0.000000  0.0  \n",
       "896    0.0  0.000000  0.000000  0.0  \n",
       "897    0.0  0.000000  0.000000  0.0  \n",
       "898    0.0  0.000000  0.000000  0.0  \n",
       "899    0.0  0.000000  0.000000  0.0  \n",
       "\n",
       "[900 rows x 3000 columns]"
      ]
     },
     "execution_count": 3,
     "metadata": {},
     "output_type": "execute_result"
    }
   ],
   "source": [
    "def preprocess(x):\n",
    "    ls_file = list(map(lambda v: open(v, 'r').read(), x))\n",
    "    return pd.Series(ls_file).replace(r'\\b([A-Za-z])\\1+\\b', '', regex=True) \\\n",
    "        .replace(r'\\b[A-Za-z]\\b', '', regex=True) \\\n",
    "        .replace(r'\\/\\*(\\*(?!\\/)|[^*])*\\*\\/', ' ccommentstyle ', regex=True) \\\n",
    "        .replace(r'//.*?\\n', ' ccommentstyle ', regex=True) \\\n",
    "        .replace(r'#.*?\\n', ' pycommentstyle ', regex=True) \\\n",
    "        .replace(r'%.*?\\n', ' prologcommentstyle ', regex=True) \\\n",
    "        .replace(r'\".*?\"', ' doublequotedstring ', regex=True) \\\n",
    "        .replace(r\"'.*?'\", ' singlequotedstring ', regex=True) \\\n",
    "        .replace(r\"'.'\", ' singlecharacter ') \\\n",
    "        .replace(r'\\(\\*(\\*(?!\\))|[^*])*\\*\\)', ' mlcommentstyle ', regex=True)\\\n",
    "        .replace(r'<!--(.*?)-->', ' htmlcommentstyle ', regex=True)\\\n",
    "        .replace(r'<!--(.*?)-->', ' htmlcommentstyle ', regex=True)\n",
    "\n",
    "\n",
    "def check_num(x):\n",
    "    if x.isnumeric():\n",
    "        return \"XXXtokenNumberXXX\"\n",
    "    else:\n",
    "        return x\n",
    "\n",
    "\n",
    "def tokenizer(txt):\n",
    "    token_pattern = r\"\"\"([0-9]+|[A-Za-z_]\\w*\\b|[!\\#\\$%\\&\\*\\+:\\-\\./<=>\\?@\\\\\\^_\\|\\~]+|[\\t\\(\\),;\\{\\}\\[\\]\"'`])\"\"\"\n",
    "    tokens = re.findall(token_pattern, txt)\n",
    "    tokens = list(map(check_num, tokens))\n",
    "    return tokens\n",
    "\n",
    "X_train, X_test, y_train, y_test = ms.train_test_split(file_list, file_ext, shuffle=True, test_size=0.25, random_state=0)\n",
    "transformer = FunctionTransformer(preprocess)\n",
    "tfidf_vectorizer = fe.text.TfidfVectorizer(ngram_range=range(1, 3), tokenizer=tokenizer, max_features=3000)\n",
    "# Visualization\n",
    "X = tfidf_vectorizer.fit_transform(transformer.fit_transform(X_train))\n",
    "\n",
    "\n",
    "lb = LabelBinarizer()\n",
    "lb.fit(accepted)\n",
    "        \n",
    "pca = PCA(n_components=2)\n",
    "two_dim = pca.fit_transform(X.todense())\n",
    "\n",
    "plt.scatter(two_dim[:, 0], two_dim[:, 1])\n",
    "plt.show()\n",
    "pd.DataFrame(X.toarray(), columns=tfidf_vectorizer.get_feature_names())"
   ]
  },
  {
   "cell_type": "markdown",
   "metadata": {
    "id": "2ZSZ8JWDtQFj"
   },
   "source": [
    "# ML Parameters"
   ]
  },
  {
   "cell_type": "markdown",
   "metadata": {
    "id": "EzwJ3dT67iDw"
   },
   "source": [
    "Modelli, e relativi parametri, che vengono testati "
   ]
  },
  {
   "cell_type": "code",
   "execution_count": 13,
   "metadata": {
    "id": "Mm9olfBftfIz"
   },
   "outputs": [
    {
     "ename": "TypeError",
     "evalue": "'dict' object is not callable",
     "output_type": "error",
     "traceback": [
      "\u001b[0;31m---------------------------------------------------------------------------\u001b[0m",
      "\u001b[0;31mTypeError\u001b[0m                                 Traceback (most recent call last)",
      "\u001b[0;32m<ipython-input-13-85ffa09f1b91>\u001b[0m in \u001b[0;36m<module>\u001b[0;34m\u001b[0m\n\u001b[1;32m     36\u001b[0m     },\n\u001b[1;32m     37\u001b[0m     {\n\u001b[0;32m---> 38\u001b[0;31m         \u001b[0;34m'clf'\u001b[0m\u001b[0;34m:\u001b[0m \u001b[0;34m[\u001b[0m\u001b[0mSVC\u001b[0m\u001b[0;34m(\u001b[0m\u001b[0;34m)\u001b[0m\u001b[0;34m]\u001b[0m\u001b[0;34m,\u001b[0m\u001b[0;34m\u001b[0m\u001b[0;34m\u001b[0m\u001b[0m\n\u001b[0m\u001b[1;32m     39\u001b[0m         \u001b[0;34m'name'\u001b[0m\u001b[0;34m:\u001b[0m \u001b[0;34m'SVC'\u001b[0m\u001b[0;34m,\u001b[0m\u001b[0;34m\u001b[0m\u001b[0;34m\u001b[0m\u001b[0m\n\u001b[1;32m     40\u001b[0m         \u001b[0;34m'clf__C'\u001b[0m\u001b[0;34m:\u001b[0m \u001b[0;34m[\u001b[0m\u001b[0;36m100\u001b[0m\u001b[0;34m,\u001b[0m\u001b[0;36m500\u001b[0m\u001b[0;34m,\u001b[0m \u001b[0;36m1000\u001b[0m\u001b[0;34m,\u001b[0m \u001b[0;36m10e5\u001b[0m\u001b[0;34m]\u001b[0m\u001b[0;34m,\u001b[0m\u001b[0;34m\u001b[0m\u001b[0;34m\u001b[0m\u001b[0m\n",
      "\u001b[0;31mTypeError\u001b[0m: 'dict' object is not callable"
     ]
    }
   ],
   "source": [
    "def baseline_model():\n",
    "    # create model\n",
    "    input_dim = X.toarray().shape[1]\n",
    "    output_dim = len(y_train_enc[0])\n",
    "    dim = int(2/3 * input_dim + output_dim)\n",
    "    model = Sequential()\n",
    "    model.add(Dense(dim, input_dim=input_dim, activation='relu'))\n",
    "    model.add(Dense(dim, activation='relu'))\n",
    "    model.add(Dense(output_dim, activation='softmax'))\n",
    "    # Compile model\n",
    "    model.compile(loss='categorical_crossentropy', optimizer='adam', metrics=['accuracy'])\n",
    "    return model\n",
    "\n",
    "parameters = [ \n",
    "    {\n",
    "        'clf':[ \n",
    "            Pipeline(\n",
    "                [\n",
    "                    ('transformer', FunctionTransformer(lambda x: x.todense(), accept_sparse=True)), \n",
    "                    ('clf', KerasClassifier(build_fn=baseline_model))\n",
    "                ]\n",
    "            )\n",
    "        ],\n",
    "        'name': 'ANN',\n",
    "        'clf__clf__epochs': [10,50,100],\n",
    "        'clf__clf__batch_size': [32,64,128,256],\n",
    "        'clf__clf__verbose':[0]\n",
    "    },\n",
    "    {\n",
    "        'clf': [RandomForestClassifier(n_jobs=-1)],\n",
    "        'name': 'RandomForestClassifier',\n",
    "        \"clf__n_estimators\": [300,500, 1000],\n",
    "        \"clf__criterion\": [\"gini\", \"entropy\"],\n",
    "        \"clf__min_samples_split\": [3],\n",
    "        \"clf__max_features\": [\"sqrt\", \"log2\"]\n",
    "    },\n",
    "    {\n",
    "        'clf': [SVC()],\n",
    "        'name': 'SVC',\n",
    "        'clf__C': [100,500, 1000, 10e5],\n",
    "        'clf__kernel': ['linear', 'rbf'],\n",
    "        'clf__class_weight': ['balanced'],\n",
    "        'clf__probability': [True]\n",
    "    }\n",
    "]"
   ]
  },
  {
   "cell_type": "markdown",
   "metadata": {
    "id": "E3C9xwcVtwWN"
   },
   "source": [
    "# Fitting"
   ]
  },
  {
   "cell_type": "markdown",
   "metadata": {
    "id": "XMUIrITO7vpl"
   },
   "source": [
    "Tramite `CV`, viene fatto il training dei vari modelli e viene stampato un valore di Accuracy. I risultati vengono memorizzati in **result** per una comparazione successiva."
   ]
  },
  {
   "cell_type": "code",
   "execution_count": 12,
   "metadata": {
    "colab": {
     "base_uri": "https://localhost:8080/"
    },
    "id": "-bPr9FRRt0mw",
    "outputId": "0cafa122-9eaf-4ff3-c771-837a31df3345",
    "scrolled": true
   },
   "outputs": [
    {
     "ename": "KeyError",
     "evalue": "'clf'",
     "output_type": "error",
     "traceback": [
      "\u001b[0;31m---------------------------------------------------------------------------\u001b[0m",
      "\u001b[0;31mKeyError\u001b[0m                                  Traceback (most recent call last)",
      "\u001b[0;32m<ipython-input-12-e3008bffb9b4>\u001b[0m in \u001b[0;36m<module>\u001b[0;34m\u001b[0m\n\u001b[1;32m      1\u001b[0m \u001b[0mresult\u001b[0m \u001b[0;34m=\u001b[0m \u001b[0;34m[\u001b[0m\u001b[0;34m]\u001b[0m\u001b[0;34m\u001b[0m\u001b[0;34m\u001b[0m\u001b[0m\n\u001b[1;32m      2\u001b[0m \u001b[0;32mfor\u001b[0m \u001b[0mparameter\u001b[0m \u001b[0;32min\u001b[0m \u001b[0mparameters\u001b[0m\u001b[0;34m:\u001b[0m\u001b[0;34m\u001b[0m\u001b[0;34m\u001b[0m\u001b[0m\n\u001b[0;32m----> 3\u001b[0;31m     \u001b[0mclf\u001b[0m \u001b[0;34m=\u001b[0m \u001b[0mparameter\u001b[0m\u001b[0;34m[\u001b[0m\u001b[0;34m'clf'\u001b[0m\u001b[0;34m]\u001b[0m\u001b[0;34m[\u001b[0m\u001b[0;36m0\u001b[0m\u001b[0;34m]\u001b[0m\u001b[0;34m\u001b[0m\u001b[0;34m\u001b[0m\u001b[0m\n\u001b[0m\u001b[1;32m      4\u001b[0m     \u001b[0mname\u001b[0m \u001b[0;34m=\u001b[0m \u001b[0mparameter\u001b[0m\u001b[0;34m[\u001b[0m\u001b[0;34m'name'\u001b[0m\u001b[0;34m]\u001b[0m\u001b[0;34m\u001b[0m\u001b[0;34m\u001b[0m\u001b[0m\n\u001b[1;32m      5\u001b[0m     \u001b[0mparameter\u001b[0m\u001b[0;34m.\u001b[0m\u001b[0mpop\u001b[0m\u001b[0;34m(\u001b[0m\u001b[0;34m'clf'\u001b[0m\u001b[0;34m)\u001b[0m\u001b[0;34m\u001b[0m\u001b[0;34m\u001b[0m\u001b[0m\n",
      "\u001b[0;31mKeyError\u001b[0m: 'clf'"
     ]
    }
   ],
   "source": [
    "result = []\n",
    "for parameter in parameters:\n",
    "    clf = parameter['clf'][0]\n",
    "    name = parameter['name']\n",
    "    parameter.pop('clf')\n",
    "    parameter.pop('name')\n",
    "\n",
    "    pipe_RF = Pipeline([\n",
    "        ('preprocessing', transformer),\n",
    "        ('vectorizer', tfidf_vectorizer),\n",
    "        ('clf', clf)]\n",
    "    )\n",
    "    grid = GridSearchCV(pipe_RF, param_grid=parameter, cv=3)\n",
    "    \n",
    "    if name == \"ANN\":\n",
    "        y_train_enc = lb.transform(y_train)\n",
    "        grid.fit(X_train, y_train_enc)\n",
    "        print(f' - {name} Accuracy: {grid.score(X_test, lb.transform(y_test))}')\n",
    "    else:\n",
    "        grid.fit(X_train, y_train)\n",
    "        # Evaluation\n",
    "        print(f' - {name} Accuracy: {grid.score(X_test, y_test)}')\n",
    "\n",
    "    # storing result\n",
    "    result.append({\n",
    "        'grid': grid,\n",
    "        'name': name,\n",
    "        'classifier': grid.best_estimator_,\n",
    "        'best score': grid.best_score_,\n",
    "        'best params': grid.best_params_,\n",
    "        'cv': grid.cv\n",
    "    })"
   ]
  },
  {
   "cell_type": "markdown",
   "metadata": {
    "id": "e4e4mgIUuFD6"
   },
   "source": [
    "# Output\n"
   ]
  },
  {
   "cell_type": "markdown",
   "metadata": {
    "id": "_mbof2ho8ikG"
   },
   "source": [
    "Comparazione tra i migliori:"
   ]
  },
  {
   "cell_type": "code",
   "execution_count": null,
   "metadata": {
    "colab": {
     "base_uri": "https://localhost:8080/",
     "height": 206
    },
    "id": "5eJvZbFnuCAG",
    "outputId": "b0f31eed-d0f7-4fa9-9ad2-f74dd0a7e4b2"
   },
   "outputs": [],
   "source": [
    "result = sorted(result, key=operator.itemgetter('best score'), reverse=True)\n",
    "pd.DataFrame.from_dict([{\n",
    "      'name':v['name'],\n",
    "      'score': v['best score'],\n",
    "      'param': v['best params']\n",
    "     } for v in result])"
   ]
  },
  {
   "cell_type": "markdown",
   "metadata": {
    "id": "PCLUOFKS8mGP"
   },
   "source": [
    "Quelli che risultano essere i migliori parametri per RandomForestClassifier:"
   ]
  },
  {
   "cell_type": "code",
   "execution_count": null,
   "metadata": {
    "colab": {
     "base_uri": "https://localhost:8080/"
    },
    "id": "gf0qL6jIxGJg",
    "outputId": "ab8237c5-16ae-49b0-a35e-1e96370e5a72",
    "scrolled": true
   },
   "outputs": [],
   "source": [
    "result[0]['best params']"
   ]
  },
  {
   "cell_type": "markdown",
   "metadata": {
    "id": "NOWgODKl_JmO"
   },
   "source": [
    "Di seguito una matrice di confusione per visualizzare i risultati. Questa matrice fa riferimento al miglior modello (Random Forest con parametri precedenti). I valori sono normalizzati. Il linguaggio che ha il peggior risultato è TypeScript che viene spesso confuso con Java e JavaScript."
   ]
  },
  {
   "cell_type": "code",
   "execution_count": null,
   "metadata": {
    "colab": {
     "base_uri": "https://localhost:8080/",
     "height": 451
    },
    "id": "JildoZA3POaq",
    "outputId": "3ac64d7e-b81e-4c75-f270-dfdf63652ea2"
   },
   "outputs": [],
   "source": [
    "SVC = None\n",
    "\n",
    "for model in result:\n",
    "    if model[\"name\"] == \"SVC\":\n",
    "        SVC = model\n",
    "\n",
    "y_pred = SVC[\"grid\"].best_estimator_.predict(X_test)\n",
    "\n",
    "array = confusion_matrix(y_test, y_pred, normalize='true', labels=accepted)\n",
    "df_cm = pd.DataFrame(array, index =accepted,\n",
    "              columns =accepted)\n",
    "plt.figure(figsize = (10,7))\n",
    "sn.heatmap(df_cm, annot=True,cmap=\"Blues\")\n",
    "plt.yticks(rotation=0)\n",
    "plt"
   ]
  },
  {
   "cell_type": "markdown",
   "metadata": {
    "id": "T1xRBY1vJ7OW"
   },
   "source": [
    "Questa matrice fa riferimento al miglior modello (Random Forest con parametri precedenti). I valori sono discreti. Il linguaggio che ha il peggior risultato è TypeScript che viene spesso confuso con Java e JavaScript."
   ]
  },
  {
   "cell_type": "code",
   "execution_count": null,
   "metadata": {
    "colab": {
     "base_uri": "https://localhost:8080/",
     "height": 447
    },
    "id": "O6CgophjUoRv",
    "outputId": "73db38c5-6003-47f3-f002-e5d752128458"
   },
   "outputs": [],
   "source": [
    "RandomForestP = None\n",
    "\n",
    "for model in result:\n",
    "    if model[\"name\"] == \"RandomForestClassifier\":\n",
    "        RandomForestP = model\n",
    "\n",
    "\n",
    "y_pred = result[0][\"grid\"].best_estimator_.predict(X_test)\n",
    "\n",
    "array = confusion_matrix(y_test, y_pred, normalize='true', labels=accepted)\n",
    "df_cm = pd.DataFrame(array, index =accepted,\n",
    "              columns =accepted)\n",
    "plt.figure(figsize = (10,7))\n",
    "sn.heatmap(df_cm, annot=True,cmap=\"Blues\")\n",
    "plt.yticks(rotation=0)\n",
    "plt"
   ]
  },
  {
   "cell_type": "markdown",
   "metadata": {
    "id": "-WcM3fCeKG9l"
   },
   "source": [
    "Questa matrice fa riferimento al secondo miglior modello (SVM con kernel=RBF e C=50). I valori sono normalizzati. Il linguaggio che ha il peggior risultato è TypeScript che viene spesso confuso con Java, JavaScript e C++."
   ]
  },
  {
   "cell_type": "code",
   "execution_count": null,
   "metadata": {
    "colab": {
     "base_uri": "https://localhost:8080/",
     "height": 451
    },
    "id": "iEdCuJPrZDPR",
    "outputId": "f9e58d27-730e-46dd-da54-6167273c7a84"
   },
   "outputs": [],
   "source": [
    "ANN = None\n",
    "\n",
    "for model in result:\n",
    "    if model[\"name\"] == \"ANN\":\n",
    "        ANN = model\n",
    "\n",
    "y_pred = ANN[\"grid\"].best_estimator_.predict(X_test)\n",
    "\n",
    "def map_to_array(x):\n",
    "    final = [0] * len(accepted)\n",
    "    final[x] = 1\n",
    "    return final\n",
    "    \n",
    "y_pred = np.array(list(map(map_to_array, list(y_pred))))\n",
    "conf_matrix = confusion_matrix(y_test, lb.inverse_transform(y_pred), normalize='true', labels=accepted)\n",
    "df_cm = pd.DataFrame(conf_matrix, index=accepted,\n",
    "                     columns=accepted)\n",
    "plt.figure(figsize=(10, 7))\n",
    "sn.heatmap(df_cm, annot=True,cmap=\"Blues\")\n",
    "plt"
   ]
  },
  {
   "cell_type": "markdown",
   "metadata": {
    "id": "x37OIn5vHy36"
   },
   "source": [
    "Per Random Forest mostro le 20 stringhe con *feature importances* più alto:"
   ]
  },
  {
   "cell_type": "code",
   "execution_count": null,
   "metadata": {
    "colab": {
     "base_uri": "https://localhost:8080/",
     "height": 447
    },
    "id": "GDEuUukXVkeM",
    "outputId": "4d9caa75-19a6-4e5b-c2c8-14b7dc9066f4",
    "scrolled": false
   },
   "outputs": [],
   "source": [
    "plt.style.use('seaborn')\n",
    "\n",
    "randomfor = None\n",
    "\n",
    "for model in result:\n",
    "    if model[\"name\"] == \"RandomForestClassifier\":\n",
    "        randomfor = model\n",
    "        \n",
    "importances = randomfor[\"grid\"].best_estimator_[\"clf\"].feature_importances_\n",
    "\n",
    "plt.figure(figsize = (10,7))\n",
    "\n",
    "(pd.Series(importances, index=tfidf_vectorizer.get_feature_names())\n",
    "   .nlargest(20)\n",
    "   .plot(kind='barh'))  "
   ]
  },
  {
   "cell_type": "code",
   "execution_count": null,
   "metadata": {},
   "outputs": [],
   "source": []
  }
 ],
 "metadata": {
  "colab": {
   "collapsed_sections": [],
   "name": "SourceCodeClassifier.ipynb",
   "provenance": []
  },
  "kernelspec": {
   "display_name": "Python 3",
   "language": "python",
   "name": "python3"
  },
  "language_info": {
   "codemirror_mode": {
    "name": "ipython",
    "version": 3
   },
   "file_extension": ".py",
   "mimetype": "text/x-python",
   "name": "python",
   "nbconvert_exporter": "python",
   "pygments_lexer": "ipython3",
   "version": "3.8.5"
  }
 },
 "nbformat": 4,
 "nbformat_minor": 1
}
